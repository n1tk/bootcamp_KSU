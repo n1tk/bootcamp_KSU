{
 "cells": [
  {
   "cell_type": "markdown",
   "metadata": {},
   "source": [
    "# Numpy is the core for pandas. Pandas is build on top of Numpy in order to provide a higher level of access to the powerfull math operations. \n"
   ]
  },
  {
   "cell_type": "code",
   "execution_count": null,
   "metadata": {},
   "outputs": [],
   "source": [
    "import pandas as pd\n",
    "import numpy as np"
   ]
  },
  {
   "cell_type": "code",
   "execution_count": null,
   "metadata": {},
   "outputs": [],
   "source": [
    "# read in the csv file aka dataframe creation\n",
    "\n",
    "url_data = \"https://raw.githubusercontent.com/sb0709/bootcamp_KSU/master/Data/data.csv\"\n",
    "data = pd.read_csv(url_data,sep=',')"
   ]
  },
  {
   "cell_type": "markdown",
   "metadata": {},
   "source": [
    "# convert the pandas dataframe to numpy array . \n",
    "\n",
    "``` python\n",
    "    DataFrame.values\n",
    "    ```\n",
    "   \n",
    "* Return a Numpy representation of the DataFrame.\n",
    "\n",
    "* Only the values in the DataFrame will be returned, the axes labels will be removed.\n",
    "\n",
    "```python\n",
    "Returns:\t\n",
    "        numpy.ndarray\n",
    "        The values of the DataFrame.\n",
    "```\n",
    "\n",
    "\n",
    "\n",
    "\n",
    "\n",
    "http://pandas.pydata.org/pandas-docs/stable/generated/pandas.DataFrame.values.html#pandas.DataFrame.values\n"
   ]
  },
  {
   "cell_type": "code",
   "execution_count": null,
   "metadata": {},
   "outputs": [],
   "source": [
    "data.dtypes"
   ]
  },
  {
   "cell_type": "code",
   "execution_count": null,
   "metadata": {},
   "outputs": [],
   "source": [
    "# get numpy array with buildin function \".values\"\n",
    "\n",
    "np_data = data.values"
   ]
  },
  {
   "cell_type": "code",
   "execution_count": null,
   "metadata": {},
   "outputs": [],
   "source": [
    "# Type of the \n",
    "\n",
    "type(np_data)"
   ]
  },
  {
   "cell_type": "code",
   "execution_count": null,
   "metadata": {},
   "outputs": [],
   "source": [
    "# slice the matrices, row slice\n",
    "\n",
    "np_data[0,:]"
   ]
  },
  {
   "cell_type": "code",
   "execution_count": null,
   "metadata": {},
   "outputs": [],
   "source": [
    "# column slice, and this also can be passed to a variables, \n",
    "# numpy anytime is made a change to a numpy array is replacing the original one, for example recreating the A than modify some variable will recreate a NEW A matrix in place. \n",
    "\n",
    "\n",
    "np_data[:,1:5]"
   ]
  },
  {
   "cell_type": "markdown",
   "metadata": {},
   "source": [
    "Sources used to build the tutorial:\n",
    "\n",
    "* A Primer on Scientific Programming with Python by Hans Petter Langtangen.\n",
    "* Deep Learning by Ian Goodfellow, Yoshua Bengio, and Aaron Courville.\n",
    "* https://docs.scipy.org/doc/numpy/reference/routines.linalg.html\n",
    "* https://machinelearningmastery.com/introduction-to-tensors-for-machine-learning/\n",
    "* https://docs.scipy.org/doc/numpy-1.10.0/reference/arrays.ndarray.html\n",
    "\n",
    "\n",
    "\n",
    "##### This part does assume that the audience have previous experience with basic Linear Algebra, including Vectors, Matrices, Tensors."
   ]
  },
  {
   "cell_type": "markdown",
   "metadata": {},
   "source": [
    "### Scalars\n",
    "##### The default data type in NumPy is float_\n",
    "\n",
    "Source doc: https://docs.scipy.org/doc/numpy-1.13.0/reference/arrays.scalars.html "
   ]
  },
  {
   "cell_type": "code",
   "execution_count": null,
   "metadata": {},
   "outputs": [],
   "source": [
    "#listing the \n",
    "\n",
    "np.ScalarType"
   ]
  },
  {
   "cell_type": "code",
   "execution_count": null,
   "metadata": {},
   "outputs": [],
   "source": [
    "a = np.array(3.1)"
   ]
  },
  {
   "cell_type": "code",
   "execution_count": null,
   "metadata": {},
   "outputs": [],
   "source": [
    "a"
   ]
  },
  {
   "cell_type": "code",
   "execution_count": null,
   "metadata": {},
   "outputs": [],
   "source": [
    "b = np.array(3, dtype=float)"
   ]
  },
  {
   "cell_type": "code",
   "execution_count": null,
   "metadata": {},
   "outputs": [],
   "source": [
    "b"
   ]
  },
  {
   "cell_type": "markdown",
   "metadata": {},
   "source": [
    "# Defining Matrics and Vectors\n",
    "\n",
    "##### A matrix  is a rectangular array of numbers, symbols, or expressions, arranged in rows and columns:\n",
    "![alt text](https://upload.wikimedia.org/wikipedia/commons/thumb/b/bb/Matrix.svg/494px-Matrix.svg.png?raw=true)\n",
    "\n",
    "https://www.wikiwand.com/en/Matrix_(mathematics)"
   ]
  },
  {
   "cell_type": "code",
   "execution_count": null,
   "metadata": {},
   "outputs": [],
   "source": [
    "# Define matrix \"A\"\n",
    "\n",
    "A = np.array([[1, 2, 3],[4, 5, 6], [7, 8, 9]])\n",
    "print(A)\n",
    "print()\n",
    "print(\"Shape of the matrix is:\", A.shape)"
   ]
  },
  {
   "cell_type": "markdown",
   "metadata": {},
   "source": [
    "### Addition, scalar multiplication and transposition\n",
    "\n",
    "![alt text](https://github.com/sb0709/bootcamp_KSU/blob/master/pictures/matrix_table.png?raw=true)\n",
    "\n",
    "\n",
    "https://www.wikiwand.com/en/Matrix_(mathematics)"
   ]
  },
  {
   "cell_type": "code",
   "execution_count": null,
   "metadata": {},
   "outputs": [],
   "source": [
    "B = A**2\n",
    "print(B)"
   ]
  },
  {
   "cell_type": "code",
   "execution_count": null,
   "metadata": {},
   "outputs": [],
   "source": [
    "# we can add matrices to each other, as long as they have the same shape, just by adding their corresponding elements: C = A + B\n",
    "\n",
    "C = A + B\n",
    "print(C)"
   ]
  },
  {
   "cell_type": "code",
   "execution_count": null,
   "metadata": {},
   "outputs": [],
   "source": [
    "# scalar multiply matrix, is performed by multiply each element of a matrix to a scalar\n",
    "\n",
    "D = 2 * C\n",
    "D"
   ]
  },
  {
   "cell_type": "code",
   "execution_count": null,
   "metadata": {},
   "outputs": [],
   "source": [
    "# scalar addition to matrix, is performed by adding each element of a matrix to a scalar\n",
    "\n",
    "E = 2 + C\n",
    "E"
   ]
  },
  {
   "cell_type": "code",
   "execution_count": null,
   "metadata": {},
   "outputs": [],
   "source": [
    "# Transpose \n",
    "print(A.T)"
   ]
  },
  {
   "cell_type": "code",
   "execution_count": null,
   "metadata": {},
   "outputs": [],
   "source": [
    "# inverse\n",
    "\n",
    "print(np.linalg.inv(E))\n",
    "\n",
    "# here we have also the Generalized inverse option to can calculate."
   ]
  },
  {
   "cell_type": "markdown",
   "metadata": {},
   "source": [
    "# How to find determinant of a matrix\n",
    "\n",
    "![alt text](https://wikimedia.org/api/rest_v1/media/math/render/svg/5b2e40d390e1d26039aabee44c7d1d86c8755232?raw=true)\n",
    "\n",
    "Source info: https://www.wikiwand.com/en/Determinant"
   ]
  },
  {
   "cell_type": "code",
   "execution_count": null,
   "metadata": {},
   "outputs": [],
   "source": [
    "# Determinant\n",
    "\n",
    "\n",
    "print(np.linalg.det(A))"
   ]
  },
  {
   "cell_type": "markdown",
   "metadata": {},
   "source": [
    "# Eigenvalue and eigenvectors\n",
    "\n",
    "\n",
    "Source: https://www.wikiwand.com/en/Eigenvalues_and_eigenvectors \n",
    "http://mathworld.wolfram.com/Eigenvalue.html"
   ]
  },
  {
   "cell_type": "code",
   "execution_count": null,
   "metadata": {},
   "outputs": [],
   "source": [
    "# Eigenvalues and Eigenvectors\n",
    "\n",
    "eigvals, eigvecs = np.linalg.eig(A)\n",
    "\n",
    "print(eigvals)\n",
    "print()\n",
    "print(eigvecs)"
   ]
  },
  {
   "cell_type": "code",
   "execution_count": null,
   "metadata": {},
   "outputs": [],
   "source": [
    "# slicing matrices\n",
    "# slice columns\n",
    "\n",
    "print(D)\n",
    "D[:,0]"
   ]
  },
  {
   "cell_type": "code",
   "execution_count": null,
   "metadata": {},
   "outputs": [],
   "source": [
    "# slice rows\n",
    "\n",
    "D[0,:]"
   ]
  },
  {
   "cell_type": "markdown",
   "metadata": {},
   "source": [
    "# Vectors\n",
    "\n",
    "##### A column vector or column matrix is an m × 1 matrix, that is, a matrix consisting of a single column of m elements,\n",
    "![alt text](https://wikimedia.org/api/rest_v1/media/math/render/svg/32bf4d54c8e316178fca0b9f4a79dd0a0a34f34f?raw=true)\n",
    "##### Similarly, a row vector or row matrix is a 1 × m matrix, that is, a matrix consisting of a single row of m elements,\n",
    "![alt text](https://wikimedia.org/api/rest_v1/media/math/render/svg/507111acf945f5fe57c45ecc563ec02a4aff4a1b?raw=true)\n",
    "\n",
    "https://www.wikiwand.com/en/Row_and_column_vectors"
   ]
  },
  {
   "cell_type": "code",
   "execution_count": null,
   "metadata": {},
   "outputs": [],
   "source": [
    "# Define vector 'x'\n",
    "\n",
    "x = np.array([[2],[3],[1]])\n",
    "print(x)\n",
    "print()\n",
    "print(\"Shape of the vector is:\", x.shape)"
   ]
  },
  {
   "cell_type": "code",
   "execution_count": null,
   "metadata": {},
   "outputs": [],
   "source": [
    "# slicing elements of a vector.\n",
    "\n",
    "x[1]"
   ]
  },
  {
   "cell_type": "code",
   "execution_count": null,
   "metadata": {},
   "outputs": [],
   "source": [
    "# Operations with vectors:\n",
    "\n",
    "print(x + x)\n",
    "print()\n",
    "print(x * x)\n",
    "print()\n",
    "print(x ** 2)"
   ]
  },
  {
   "cell_type": "code",
   "execution_count": null,
   "metadata": {},
   "outputs": [],
   "source": [
    "# https://docs.scipy.org/doc/numpy-1.10.0/reference/arrays.ndarray.html"
   ]
  },
  {
   "cell_type": "code",
   "execution_count": null,
   "metadata": {},
   "outputs": [],
   "source": [
    "# Vector matrix multiplication:\n",
    "print(A)\n",
    "print(x.dot(A))\n",
    "\n",
    "#here we can see the error of multiplication, we have the rules when performing vector matrix multiplication ... "
   ]
  },
  {
   "cell_type": "code",
   "execution_count": null,
   "metadata": {},
   "outputs": [],
   "source": [
    "print(x.T.dot(A))"
   ]
  },
  {
   "cell_type": "code",
   "execution_count": null,
   "metadata": {},
   "outputs": [],
   "source": [
    "# Element-wise Multiplication\n",
    "\n",
    "print(np.multiply(A, x))\n",
    "print()\n",
    "print(np.multiply(x, A))"
   ]
  },
  {
   "cell_type": "markdown",
   "metadata": {},
   "source": [
    "# Defining Tensors and perfom operations\n",
    "### A tensor is a generalization of vectors and matrices and is easily understood as a multidimensional array."
   ]
  },
  {
   "cell_type": "code",
   "execution_count": null,
   "metadata": {},
   "outputs": [],
   "source": [
    "# https://machinelearningmastery.com/introduction-to-tensors-for-machine-learning/"
   ]
  },
  {
   "cell_type": "code",
   "execution_count": null,
   "metadata": {},
   "outputs": [],
   "source": [
    "# Tensor defining:\n",
    "\n",
    "T = np.array([\n",
    "  [[1,2,3],    [4,5,6],    [7,8,9]],\n",
    "  [[11,12,13], [14,15,16], [17,18,19]],\n",
    "  [[21,22,23], [24,25,26], [27,28,29]],\n",
    "  ])\n",
    "print(T.shape)\n",
    "print(T)"
   ]
  },
  {
   "cell_type": "markdown",
   "metadata": {},
   "source": [
    "Tensor Addition:\n",
    "\n",
    "```python\n",
    "     a111, a121, a131     a112, a122, a132\n",
    "A = (a211, a221, a231),  (a112, a122, a132)\n",
    "\n",
    "     b111, b121, t131     b112, b122, b132\n",
    "B = (b211, t221, t231),  (b112, b122, b132)\n",
    "\n",
    "\n",
    "C = A + B\n",
    "\n",
    "     a111 + b111, a121 + b121, a131 + b131     a112 + b112, a122 + b122, a132 + b132\n",
    "C = (a211 + b211, a221 + b221, a231 + b231),  (a112 + b112, a122 + b122, a132 + b132)\n",
    "```"
   ]
  },
  {
   "cell_type": "code",
   "execution_count": null,
   "metadata": {},
   "outputs": [],
   "source": [
    "t_A = np.array([\n",
    "  [[1,2,3],    [4,5,6],    [7,8,9]],\n",
    "  [[11,12,13], [14,15,16], [17,18,19]],\n",
    "  [[21,22,23], [24,25,26], [27,28,29]],])\n",
    "t_B = np.array([\n",
    "  [[1,2,3],    [4,5,6],    [7,8,9]],\n",
    "  [[11,12,13], [14,15,16], [17,18,19]],\n",
    "  [[21,22,23], [24,25,26], [27,28,29]],\n",
    "  ])\n",
    "t_C = t_A + t_B\n",
    "print(t_C)"
   ]
  },
  {
   "cell_type": "code",
   "execution_count": null,
   "metadata": {},
   "outputs": [],
   "source": [
    "# Tensor substraction, division and element-wise multiplication is like the addition elements operation:\n",
    "\n",
    "t_C = t_A - t_B\n",
    "print(t_C)\n",
    "\n",
    "print()\n",
    "t_C = t_A * t_B\n",
    "print(t_C)\n",
    "\n",
    "print()\n",
    "t_C = t_A / t_B\n",
    "print(t_C)"
   ]
  },
  {
   "cell_type": "code",
   "execution_count": null,
   "metadata": {},
   "outputs": [],
   "source": [
    "# Tensor Dot_product\n",
    "\n",
    "t_C = np.tensordot(t_A, t_B, axes=0)\n",
    "print(t_C[1])"
   ]
  },
  {
   "cell_type": "markdown",
   "metadata": {},
   "source": [
    "# Example solving linear equations using vector and matrices"
   ]
  },
  {
   "cell_type": "markdown",
   "metadata": {},
   "source": [
    "### We now have enough linear algebra notation to write a system of linear equations: Ax = b\n",
    "* A is a matrix\n",
    "* x is a vector\n",
    "* b is a vector\n",
    "\n",
    "https://docs.scipy.org/doc/numpy-1.14.0/reference/generated/numpy.linalg.solve.html"
   ]
  },
  {
   "cell_type": "code",
   "execution_count": null,
   "metadata": {},
   "outputs": [],
   "source": [
    "# Solve the system of equations 3 * x0 + x1 = 9 and x0 + 2 * x1 = 8:\n",
    "\n",
    "A = np.array([[3,1], [1,2]])\n",
    "b = np.array([9,8])\n",
    "x = np.linalg.solve(A, b)"
   ]
  },
  {
   "cell_type": "code",
   "execution_count": null,
   "metadata": {},
   "outputs": [],
   "source": [
    "x"
   ]
  },
  {
   "cell_type": "code",
   "execution_count": null,
   "metadata": {},
   "outputs": [],
   "source": [
    "# Check that the solution is correct:\n",
    "\n",
    "np.allclose(np.dot(A, x), b)"
   ]
  },
  {
   "cell_type": "markdown",
   "metadata": {},
   "source": [
    "# Q&A"
   ]
  },
  {
   "cell_type": "code",
   "execution_count": null,
   "metadata": {},
   "outputs": [],
   "source": []
  }
 ],
 "metadata": {
  "kernelspec": {
   "display_name": "Python36 (bootcamp_conda_ksu)",
   "language": "python",
   "name": "bootcamp_conda_ksu"
  },
  "language_info": {
   "codemirror_mode": {
    "name": "ipython",
    "version": 3
   },
   "file_extension": ".py",
   "mimetype": "text/x-python",
   "name": "python",
   "nbconvert_exporter": "python",
   "pygments_lexer": "ipython3",
   "version": "3.6.5"
  }
 },
 "nbformat": 4,
 "nbformat_minor": 2
}
