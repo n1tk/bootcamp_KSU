{
 "cells": [
  {
   "cell_type": "markdown",
   "metadata": {},
   "source": [
    "# Reshaping and Pivot Tables\n",
    "\n",
    "Doc Sources: \n",
    "* https://pandas.pydata.org/pandas-docs/stable/generated/pandas.pivot_table.html    \n",
    "* https://pandas.pydata.org/pandas-docs/stable/reshaping.html\n",
    "\n",
    "While pivot() provides general purpose pivoting with various data types (strings, numerics, etc.), pandas also provides pivot_table() for pivoting with aggregation of numeric data.\n",
    "\n",
    "The function pivot_table() can be used to create spreadsheet-style pivot tables. See the cookbook for some advanced strategies.\n",
    "\n",
    "It takes a number of arguments:\n",
    "\n",
    "* data: a DataFrame object.\n",
    "* values: a column or a list of columns to aggregate.\n",
    "* index: a column, Grouper, array which has the same length as data, or list of them. Keys to group by on the pivot * table index. If an array is passed, it is being used as the same manner as column values.\n",
    "* columns: a column, Grouper, array which has the same length as data, or list of them. Keys to group by on the * pivot table column. If an array is passed, it is being used as the same manner as column values.\n",
    "* aggfunc: function to use for aggregation, defaulting to numpy.mean."
   ]
  },
  {
   "cell_type": "code",
   "execution_count": null,
   "metadata": {},
   "outputs": [],
   "source": [
    "import pandas as pd\n",
    "import numpy as np"
   ]
  },
  {
   "cell_type": "code",
   "execution_count": null,
   "metadata": {},
   "outputs": [],
   "source": [
    "# One best practice is to ask questions about the dataset before moving into modeling:\n",
    "\n",
    "# * what age group does have more balance or any other interesting column.\n",
    "# * what AGE group have the most balance of the cards/accounts. \n",
    "# * etc."
   ]
  },
  {
   "cell_type": "code",
   "execution_count": null,
   "metadata": {},
   "outputs": [],
   "source": [
    "# read in the csv file aka dataframe creation\n",
    "\n",
    "url_data = \"https://raw.githubusercontent.com/sb0709/bootcamp_KSU/master/Data/data.csv\"\n",
    "data = pd.read_csv(url_data,sep=',') # for specify the index we use here the colums \"0\" when reading the data: , index_col=0"
   ]
  },
  {
   "cell_type": "code",
   "execution_count": null,
   "metadata": {},
   "outputs": [],
   "source": [
    "#check the dataframe shape.\n",
    "\n",
    "print(data.shape) # to can get the shape of our dataframe, so we have 1k observations and 11 columns(variables)\n",
    "\n",
    "print(data.head()) # to can see the top 5 observations from our dataset\n",
    "\n",
    "print(data.describe())"
   ]
  },
  {
   "cell_type": "markdown",
   "metadata": {},
   "source": [
    "# Simple explanation of what is the structure of the \"pivot_table\" and \"pivot\"\n",
    "\n",
    "* data is self explanatory - it's the DataFrame you'd like to use\n",
    "* index is the column, grouper, array (or list of the previous) you'd like to group your data by. It will be displayed in the index column (or columns, if you're passing in a list)\n",
    "* values (optional) is the column you'd like to aggregate. If you do not specify this then the function will aggregate all numeric columns."
   ]
  },
  {
   "cell_type": "code",
   "execution_count": null,
   "metadata": {},
   "outputs": [],
   "source": [
    "# sort data in pandas example\n",
    "\n",
    "data.sort_values(['AGE', \"DELQID\"], ascending=[True, False], inplace=True)"
   ]
  },
  {
   "cell_type": "code",
   "execution_count": null,
   "metadata": {},
   "outputs": [],
   "source": [
    "# here is sorted dataframe used for the pivot_table creation\n",
    "\n",
    "data[['goodbad', 'AGE_groups', 'DELQID', 'TRADES']].head()"
   ]
  },
  {
   "cell_type": "code",
   "execution_count": null,
   "metadata": {},
   "outputs": [],
   "source": [
    "#or cab be used mean or any other numpy valid aggregation function and multiple index as well and here we don't specify the colun so be\n",
    "# One way to look at our data is single index and we use values as a \"count\" \n",
    "# This way we are see that \"bad\" has 813 TRADES and \"good\" has 187 TRADES \n",
    "\n",
    "pd.pivot_table(data,index=['goodbad'], values=['TRADES'], aggfunc='count') "
   ]
  },
  {
   "cell_type": "markdown",
   "metadata": {},
   "source": [
    "# One approach of visualisation we can use as the 'count' aggregation function and we use here single index\n",
    "\n",
    "# Another way is to use the \"columns\" parameter to can better display the data "
   ]
  },
  {
   "cell_type": "code",
   "execution_count": null,
   "metadata": {},
   "outputs": [],
   "source": [
    "# use as the 'count' aggregation function and we use here single index\n",
    "\n",
    "# Another way is to use the \"columns\" parameter to can better display the data \n",
    "\n",
    "pd.pivot_table(data, index=['goodbad'], columns=['AGE_groups'], values=['TRADES'], aggfunc='count')"
   ]
  },
  {
   "cell_type": "markdown",
   "metadata": {},
   "source": [
    "# Other visualisation we can use as the 'count' aggregation function and we use here single index and 2 or more columns passed to 'values' parameter. \n"
   ]
  },
  {
   "cell_type": "code",
   "execution_count": null,
   "metadata": {},
   "outputs": [],
   "source": [
    "# use as the 'count' aggregation function and we use here single index and 2 or more columns passed to 'values' parameter. \n",
    "\n",
    "\n",
    "pd.pivot_table(data, index=['goodbad'], columns=['AGE_groups'], values=['BRNEW', 'BRAGE'], aggfunc='count')"
   ]
  },
  {
   "cell_type": "code",
   "execution_count": null,
   "metadata": {},
   "outputs": [],
   "source": [
    "# use the 'sum' as the aggregation function by using multiple index:\n",
    "\n",
    "pd.pivot_table(data, index=['goodbad', 'AGE_groups'], columns=['DELQID'], values='TRADES',  aggfunc=np.sum)"
   ]
  },
  {
   "cell_type": "code",
   "execution_count": null,
   "metadata": {},
   "outputs": [],
   "source": [
    "#using the 'np.mean' as the aggregation function by using multiple index:\n",
    "\n",
    "pd.pivot_table(data, index=['goodbad', 'AGE_groups'], columns=['DELQID'], values='TRADES',  aggfunc=np.mean)"
   ]
  },
  {
   "cell_type": "markdown",
   "metadata": {},
   "source": [
    "# Create a pivot table of group score counts, by goodbad and AGE_groups"
   ]
  },
  {
   "cell_type": "code",
   "execution_count": null,
   "metadata": {},
   "outputs": [],
   "source": [
    "#or cab be used mean or any other numpy valid aggregation function and multiple index as well and here we don't specify the colun so be\n",
    "\n",
    "\n",
    "pd.pivot_table(data,index=['goodbad','AGE_groups'], values=[\"TRADES\"], aggfunc='count') "
   ]
  },
  {
   "cell_type": "code",
   "execution_count": null,
   "metadata": {},
   "outputs": [],
   "source": [
    "pd.pivot_table(data,index=['goodbad','AGE_groups'], values=[\"TRADES\"], aggfunc=np.sum)"
   ]
  },
  {
   "cell_type": "code",
   "execution_count": null,
   "metadata": {},
   "outputs": [],
   "source": [
    "\n",
    "rbal_tabled = pd.pivot_table(data,index=['goodbad','AGE_groups'],values=[\"RBAL\"], aggfunc=np.sum)\n",
    "rbal_tabled"
   ]
  },
  {
   "cell_type": "code",
   "execution_count": null,
   "metadata": {},
   "outputs": [],
   "source": [
    "#get max value of the 'DELQID' column. \n",
    "\n",
    "data['DELQID'].max()"
   ]
  },
  {
   "cell_type": "code",
   "execution_count": null,
   "metadata": {},
   "outputs": [],
   "source": [
    "#get min value of the 'DELQID' column. \n",
    "\n",
    "data['DELQID'].min()"
   ]
  },
  {
   "cell_type": "code",
   "execution_count": null,
   "metadata": {},
   "outputs": [],
   "source": [
    "# We can bin the data and pass directly to pivot_table function and will keep the original name DELQID when visualizing the pivot_table.  \n",
    "\n",
    "d_id = pd.cut(data['DELQID'], [0, 3, 7])\n",
    "pd.pivot_table(data,index = ['goodbad', d_id], values=['RBAL'], columns=['AGE_groups'], \n",
    "              aggfunc= [np.mean, np.median, min, max, np.std])"
   ]
  },
  {
   "cell_type": "code",
   "execution_count": null,
   "metadata": {},
   "outputs": [],
   "source": [
    "# We can bin the data and pass directly to pivot_table function and will keep the original name DELQID when visualizing the pivot_table.  \n",
    "\n",
    "d_id = pd.cut(data['DELQID'], [0, 1, 2, 3, 4, 5, 6, 7])\n",
    "rbal_crelim_tabled = pd.pivot_table(data,index = ['goodbad', d_id], columns=['AGE_groups'], values=['RBAL','CRELIM'],\n",
    "                                    aggfunc={'RBAL': np.mean,\n",
    "                                             'CRELIM': [min, max, np.mean]},fill_value=0) # fill_value=0 does fil NA with 0"
   ]
  },
  {
   "cell_type": "code",
   "execution_count": null,
   "metadata": {},
   "outputs": [],
   "source": [
    "rbal_crelim_tabled"
   ]
  },
  {
   "cell_type": "markdown",
   "metadata": {},
   "source": [
    "# Advanced pivot_table Filtering"
   ]
  },
  {
   "cell_type": "code",
   "execution_count": null,
   "metadata": {},
   "outputs": [],
   "source": [
    "rbal_crelim_tabled.query('goodbad == [\"0\"]')"
   ]
  },
  {
   "cell_type": "markdown",
   "metadata": {},
   "source": [
    "# Visualizing the pivot_table by using matplotlib and Seaborn\n"
   ]
  },
  {
   "cell_type": "code",
   "execution_count": null,
   "metadata": {},
   "outputs": [],
   "source": [
    "%matplotlib inline\n",
    "import matplotlib.pyplot as plt\n",
    "import seaborn as sns\n",
    "# use Seaborn styles\n",
    "sns.set()  \n",
    "\n",
    "pd.pivot_table(data, index=['goodbad','AGE_groups'],values=[\"RBAL\"], aggfunc=np.sum).plot(kind= 'bar')\n",
    "plt.ylabel(\"Revolving Balance\")\n",
    "\n",
    "# here we can see what age group does have the most RBAL and by visualizing we can get a feel of the groups containing the most Balance"
   ]
  },
  {
   "cell_type": "markdown",
   "metadata": {},
   "source": [
    "# Working with SQl statements in pandas similar to 'sqldf' package in R."
   ]
  },
  {
   "cell_type": "code",
   "execution_count": null,
   "metadata": {},
   "outputs": [],
   "source": [
    "from pandasql import sqldf\n",
    "\n",
    "\n",
    "\n",
    "q = \"\"\" \n",
    "        SELECT\n",
    "            * \n",
    "        FROM \n",
    "            data \n",
    "        LIMIT 10;\"\"\"\n",
    "\n",
    " \n",
    "print(sqldf(q, locals()))"
   ]
  },
  {
   "cell_type": "markdown",
   "metadata": {},
   "source": [
    "#####  locals() vs. globals()\n",
    "    pandasql needs to have access to other variables in your session/environment. You can pass locals() to pandasql when executing a SQL statement, but if you're running a lot of queries that might be a pain. To avoid passing locals all the time, you can add this helper function to your script to set globals() like so:"
   ]
  },
  {
   "cell_type": "code",
   "execution_count": null,
   "metadata": {},
   "outputs": [],
   "source": [
    "# we can do joint, groupBy and most of the standard SQL queries to our dataframe.\n",
    "\n",
    "def pysqldf(q):\n",
    "    return sqldf(q, globals())\n",
    "    \n",
    "q = \"\"\"\n",
    "    SELECT\n",
    "        *\n",
    "    FROM\n",
    "        data\n",
    "    LIMIT 10;\"\"\" # q is just a name for our query\n",
    "\n",
    "print(pysqldf(q))"
   ]
  },
  {
   "cell_type": "markdown",
   "metadata": {},
   "source": [
    "### Since `pandasql` is powered by SQLite3, you can do most anything you can do in `SQL`. Here are some examples using common `SQL` features such as `subqueries`, `order by`, `functions`, and `unions`.\n",
    "\n",
    "Fore more info: http://blog.yhat.com/posts/pandasql-sql-for-pandas-dataframes.html"
   ]
  },
  {
   "cell_type": "code",
   "execution_count": null,
   "metadata": {},
   "outputs": [],
   "source": [
    "# Where clause SQL \n",
    "\n",
    "q_where = \"\"\"\n",
    "    SELECT\n",
    "        RBAL\n",
    "        , TRADES\n",
    "        , AGE\n",
    "        , DELQID\n",
    "        , CRELIM\n",
    "    FROM\n",
    "        data\n",
    "    WHERE\n",
    "        AGE >= 50\n",
    "    ORDER BY AGE DESC\n",
    "    LIMIT 10;\n",
    "    \"\"\"\n",
    "\n",
    "print(pysqldf(q_where))\n"
   ]
  },
  {
   "cell_type": "code",
   "execution_count": null,
   "metadata": {},
   "outputs": [],
   "source": [
    "# Where clause SQL \n",
    "\n",
    "q_where_1 = \"\"\"\n",
    "    SELECT\n",
    "        RBAL\n",
    "        , TRADES\n",
    "        , AGE\n",
    "        , DELQID\n",
    "        , CRELIM\n",
    "    FROM\n",
    "        data\n",
    "    WHERE\n",
    "        AGE >= 50\n",
    "    ORDER BY AGE DESC;\n",
    "    \"\"\"\n",
    "\n",
    "print(pysqldf(q_where_1).head(20))"
   ]
  },
  {
   "cell_type": "code",
   "execution_count": null,
   "metadata": {},
   "outputs": [],
   "source": [
    "# you can simple create new dataframe as follow: \n",
    "\n",
    "age_50_up = pysqldf(q_where_1)\n",
    "\n",
    "print(age_50_up.head(20))\n",
    "print()\n",
    "\n",
    "print(age_50_up.info())"
   ]
  },
  {
   "cell_type": "markdown",
   "metadata": {},
   "source": [
    "# Exercise: \n",
    "\n",
    "* write a query of any choice for the `data` dataframe"
   ]
  },
  {
   "cell_type": "markdown",
   "metadata": {},
   "source": [
    "# Q&A"
   ]
  },
  {
   "cell_type": "code",
   "execution_count": null,
   "metadata": {},
   "outputs": [],
   "source": []
  }
 ],
 "metadata": {
  "kernelspec": {
   "display_name": "Python36 (bootcamp_conda_ksu)",
   "language": "python",
   "name": "bootcamp_conda_ksu"
  },
  "language_info": {
   "codemirror_mode": {
    "name": "ipython",
    "version": 3
   },
   "file_extension": ".py",
   "mimetype": "text/x-python",
   "name": "python",
   "nbconvert_exporter": "python",
   "pygments_lexer": "ipython3",
   "version": "3.6.5"
  }
 },
 "nbformat": 4,
 "nbformat_minor": 2
}
