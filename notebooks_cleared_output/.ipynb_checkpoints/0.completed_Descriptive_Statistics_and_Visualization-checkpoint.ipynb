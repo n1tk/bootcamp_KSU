{
 "cells": [
  {
   "cell_type": "markdown",
   "metadata": {},
   "source": [
    "# A bit about programming in python"
   ]
  },
  {
   "cell_type": "markdown",
   "metadata": {},
   "source": [
    "Very good online free resources on python: \n",
    "* http://interactivepython.org/courselib/static/thinkcspy/index.html\n",
    "* http://www.diveintopython3.net/index.html\n",
    "* https://www.python-course.eu/python3_course.php\n",
    "* https://www.python.org/about/gettingstarted/\n",
    "* https://wiki.python.org/moin/BeginnersGuide/Programmers\n"
   ]
  },
  {
   "cell_type": "code",
   "execution_count": null,
   "metadata": {},
   "outputs": [],
   "source": [
    "# regular def/function and we define with reserved name 'def'\n",
    "def f(x):\n",
    "    return x**4"
   ]
  },
  {
   "cell_type": "code",
   "execution_count": null,
   "metadata": {},
   "outputs": [],
   "source": [
    "x_vect = np.array([[2],[3],[1]])\n",
    "\n",
    "print(f(x_vect))"
   ]
  },
  {
   "cell_type": "code",
   "execution_count": null,
   "metadata": {},
   "outputs": [],
   "source": [
    "# lambda approach\n",
    "\n",
    "today_l = lambda x: x**4\n",
    "print(today_l(x_vect))"
   ]
  },
  {
   "cell_type": "markdown",
   "metadata": {},
   "source": [
    "# Vectorization approach instead of for loop\n",
    "\n",
    "* https://docs.scipy.org/doc/numpy/reference/generated/numpy.vectorize.html\n",
    "\n",
    "```python\n",
    "class numpy.vectorize(pyfunc, otypes=None, doc=None, excluded=None, cache=False, signature=None)\n",
    "```\n",
    "\n",
    "We call the function as follow:\n",
    "\n",
    "```python\n",
    "vfunc = np.vectorize(myfunc)\n",
    "```\n",
    "\n",
    "##### for multiple aggregation functions:\n",
    "```python\n",
    "df.groupby(df.index).agg(['sum', 'mean', 'std']).reset_index()\n",
    "```\n"
   ]
  },
  {
   "cell_type": "code",
   "execution_count": null,
   "metadata": {},
   "outputs": [],
   "source": [
    "# https://stackoverflow.com/questions/28828917/error-importing-seaborn-module-in-python"
   ]
  },
  {
   "cell_type": "markdown",
   "metadata": {},
   "source": [
    "# Visualizing statistical relationship"
   ]
  },
  {
   "cell_type": "code",
   "execution_count": null,
   "metadata": {},
   "outputs": [],
   "source": [
    "# in case seaborn/anaconda makes issue for the import or find the seaborn\n",
    "# conda install -c https://conda.anaconda.org/anaconda seaborn\n",
    "\n",
    "import numpy as np\n",
    "import pandas as pd\n",
    "import matplotlib.pyplot as plt\n",
    "import seaborn as sns\n",
    "sns.set(style=\"darkgrid\")\n"
   ]
  },
  {
   "cell_type": "code",
   "execution_count": null,
   "metadata": {},
   "outputs": [],
   "source": [
    "url_data = \"https://raw.githubusercontent.com/sb0709/bootcamp_KSU/master/Data/data_reg.csv\"\n",
    "df = pd.read_csv(url_data,sep=',' ) # for specify the index we use here the colums \"0\" when reading the data: , index_col=0"
   ]
  },
  {
   "cell_type": "markdown",
   "metadata": {},
   "source": [
    "### Relating variables with scatter plots\n",
    "\n",
    "* https://seaborn.pydata.org/tutorial/relational.html\n",
    "\n",
    "\n",
    "``` The scatter plot is a mainstay of statistical visualization. It depicts the joint distribution of two variables using a cloud of points, where each point represents an observation in the dataset. This depiction allows the eye to infer a substantial amount of information about whether there is any meaningful relationship between them.\n",
    "```\n",
    "\n",
    "```\n",
    "There are several ways to draw a scatter plot in seaborn. The most basic, which should be used when both variables are numeric, is the scatterplot() function. In the categorical visualization tutorial, we will see specialized tools for using scatterplots to visualize categorical data. The scatterplot() is the default kind in relplot() (it can also be forced by setting kind=\"scatter\"):```"
   ]
  },
  {
   "cell_type": "code",
   "execution_count": null,
   "metadata": {},
   "outputs": [],
   "source": [
    "list(df.columns)"
   ]
  },
  {
   "cell_type": "code",
   "execution_count": null,
   "metadata": {},
   "outputs": [],
   "source": [
    "sns.relplot(x=\"RBAL\", y=\"goodbad\", data=df);"
   ]
  },
  {
   "cell_type": "code",
   "execution_count": null,
   "metadata": {},
   "outputs": [],
   "source": [
    "sns.relplot(x=\"RBAL\", y=\"TRADES\", hue=\"goodbad\", style=\"goodbad\", data=df);"
   ]
  },
  {
   "cell_type": "markdown",
   "metadata": {},
   "source": [
    "# Plotting with categorical data\n",
    "\n",
    "Categorical scatterplots:\n",
    "\n",
    "* stripplot() (with kind=\"strip\"; the default)\n",
    "* swarmplot() (with kind=\"swarm\")\n",
    "\n",
    "Categorical distribution plots:\n",
    "\n",
    "* boxplot() (with kind=\"box\")\n",
    "* violinplot() (with kind=\"violin\")\n",
    "* boxenplot() (with kind=\"boxen\")\n",
    "\n",
    "Categorical estimate plots:\n",
    "\n",
    "* pointplot() (with kind=\"point\")\n",
    "* barplot() (with kind=\"bar\")\n",
    "* countplot() (with kind=\"count\")\n",
    "\n",
    "https://seaborn.pydata.org/tutorial/categorical.html"
   ]
  },
  {
   "cell_type": "code",
   "execution_count": null,
   "metadata": {},
   "outputs": [],
   "source": [
    "sns.catplot(x=\"AGE_groups\", y=\"CRELIM\",hue=\"goodbad\", kind=\"swarm\" , data=df); # kind=\"swarm\"  parameter"
   ]
  },
  {
   "cell_type": "markdown",
   "metadata": {},
   "source": [
    "# Distributions of observations within categories\n"
   ]
  },
  {
   "cell_type": "code",
   "execution_count": null,
   "metadata": {},
   "outputs": [],
   "source": [
    "sns.catplot(x=\"AGE_groups\", y=\"CRELIM\", kind=\"box\", data=df);\n"
   ]
  },
  {
   "cell_type": "code",
   "execution_count": null,
   "metadata": {},
   "outputs": [],
   "source": [
    "sns.catplot(x=\"AGE_groups\", y=\"CRELIM\", kind=\"box\",hue=\"goodbad\", data=df);\n"
   ]
  },
  {
   "cell_type": "markdown",
   "metadata": {},
   "source": [
    "# Statistical estimation within categories"
   ]
  },
  {
   "cell_type": "code",
   "execution_count": null,
   "metadata": {},
   "outputs": [],
   "source": [
    "sns.catplot(x=\"goodbad\", y=\"CRELIM\", kind=\"bar\", hue=\"AGE_groups\", data=df);"
   ]
  },
  {
   "cell_type": "code",
   "execution_count": null,
   "metadata": {},
   "outputs": [],
   "source": [
    "# Showing multiple relationships with facets"
   ]
  },
  {
   "cell_type": "code",
   "execution_count": null,
   "metadata": {},
   "outputs": [],
   "source": [
    "g = sns.catplot(x=\"CRELIM\", y=\"goodbad\", row=\"AGE_groups\",\n",
    "                kind=\"box\", orient=\"h\", height=1.5, aspect=4,\n",
    "                data=df.query(\"CRELIM > 1000\"))\n",
    "g.set(xscale=\"log\");"
   ]
  },
  {
   "cell_type": "markdown",
   "metadata": {},
   "source": [
    "# Showing distributions of the variables model:"
   ]
  },
  {
   "cell_type": "code",
   "execution_count": null,
   "metadata": {},
   "outputs": [],
   "source": [
    "sns.distplot(df['CRELIM']);"
   ]
  },
  {
   "cell_type": "markdown",
   "metadata": {},
   "source": [
    "# Visualizing pairwise relationships in a dataset\n",
    "\n",
    "To plot multiple pairwise bivariate distributions in a dataset, you can use the pairplot() function. This creates a matrix of axes and shows the relationship for each pair of columns in a DataFrame. by default, it also draws the univariate distribution of each variable on the diagonal Axes:"
   ]
  },
  {
   "cell_type": "code",
   "execution_count": null,
   "metadata": {},
   "outputs": [],
   "source": [
    "sns.pairplot(df);"
   ]
  },
  {
   "cell_type": "markdown",
   "metadata": {},
   "source": [
    "# Functions to draw linear regression models\n",
    "\n",
    "Source doc: https://seaborn.pydata.org/tutorial/regression.html"
   ]
  },
  {
   "cell_type": "code",
   "execution_count": null,
   "metadata": {},
   "outputs": [],
   "source": [
    "sns.lmplot(x=\"RBAL\", y=\"CRELIM\", hue=\"goodbad\", data=df);\n"
   ]
  },
  {
   "cell_type": "code",
   "execution_count": null,
   "metadata": {},
   "outputs": [],
   "source": [
    "\"\"\"\n",
    "'RBAL',\n",
    " 'TRADES',\n",
    " 'AGE',\n",
    " 'AGE_groups',\n",
    " 'DELQID',\n",
    " 'CRELIM',\n",
    " 'goodbad',\n",
    " 'BRNEW',\n",
    " 'BRAGE'\n",
    " \n",
    "\"\"\"\n",
    "\n",
    "df_mlt = pd.DataFrame([[2, 4, 7, 8, 1, 3, 2017], [9, 2, 4, 5, 5, 6, 2018]], columns=['Amy', 'Bob', 'Carl', 'Chris', 'Ben', 'Other', 'Year'])\n",
    "\n",
    "\n"
   ]
  },
  {
   "cell_type": "code",
   "execution_count": null,
   "metadata": {},
   "outputs": [],
   "source": [
    "df_mlt"
   ]
  },
  {
   "cell_type": "code",
   "execution_count": null,
   "metadata": {},
   "outputs": [],
   "source": [
    "df_melted = pd.melt(df_mlt, id_vars='Year', \n",
    "                    value_vars=['Amy', 'Bob', 'Carl', 'Chris', 'Ben', 'Other'], # columns to become the row\n",
    "                    var_name=['Students']) #naming of the variable create for our variables "
   ]
  },
  {
   "cell_type": "code",
   "execution_count": null,
   "metadata": {},
   "outputs": [],
   "source": [
    "df_melted"
   ]
  },
  {
   "cell_type": "code",
   "execution_count": null,
   "metadata": {},
   "outputs": [],
   "source": [
    "sns.relplot(x=\"Students\", y=\"value\", hue=\"Year\", style=\"Year\", data=df_melted);"
   ]
  },
  {
   "cell_type": "code",
   "execution_count": null,
   "metadata": {},
   "outputs": [],
   "source": [
    "sns.lineplot(x=\"Students\", y=\"value\", hue=\"Year\", style=\"Year\", data=df_melted)\n"
   ]
  },
  {
   "cell_type": "markdown",
   "metadata": {},
   "source": [
    " # Q & A"
   ]
  },
  {
   "cell_type": "code",
   "execution_count": null,
   "metadata": {},
   "outputs": [],
   "source": []
  }
 ],
 "metadata": {
  "kernelspec": {
   "display_name": "Python36 (bootcamp_conda_ksu)",
   "language": "python",
   "name": "bootcamp_conda_ksu"
  },
  "language_info": {
   "codemirror_mode": {
    "name": "ipython",
    "version": 3
   },
   "file_extension": ".py",
   "mimetype": "text/x-python",
   "name": "python",
   "nbconvert_exporter": "python",
   "pygments_lexer": "ipython3",
   "version": "3.6.5"
  }
 },
 "nbformat": 4,
 "nbformat_minor": 2
}
