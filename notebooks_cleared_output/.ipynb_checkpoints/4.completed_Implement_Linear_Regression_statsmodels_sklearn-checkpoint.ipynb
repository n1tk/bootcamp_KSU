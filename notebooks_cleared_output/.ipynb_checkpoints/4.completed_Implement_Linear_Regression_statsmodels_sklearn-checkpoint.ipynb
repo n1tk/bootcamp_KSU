{
 "cells": [
  {
   "cell_type": "markdown",
   "metadata": {},
   "source": [
    "# Linear Regression(OLS)\n",
    "\n",
    "https://www.statsmodels.org/stable/regression.html\n",
    "https://www.wikiwand.com/en/Linear_regression\n",
    "http://scikit-learn.org/stable/auto_examples/linear_model/plot_ols.html#sphx-glr-auto-examples-linear-model-plot-ols-py\n",
    "\n",
    "![alt text](https://upload.wikimedia.org/wikipedia/commons/thumb/3/3a/Linear_regression.svg/440px-Linear_regression.svg.png?raw=true)\n",
    "\n",
    "Very good online free resources on python: \n",
    "* http://interactivepython.org/courselib/static/thinkcspy/index.html\n",
    "* http://www.diveintopython3.net/index.html\n",
    "* https://www.python-course.eu/python3_course.php\n",
    "* https://www.python.org/about/gettingstarted/\n",
    "* https://wiki.python.org/moin/BeginnersGuide/Programmers\n",
    "\n",
    "Author @Sergiu Buciumas\n",
    "email: sbuciuma@students.kennesaw.edu"
   ]
  },
  {
   "cell_type": "markdown",
   "metadata": {},
   "source": [
    "# 5. How to Implement Linear Regression using statsmodels and sklearn"
   ]
  },
  {
   "cell_type": "markdown",
   "metadata": {
    "collapsed": true
   },
   "source": [
    "For this task we are using the merged CLEAN1B, 1B, 1C and goodbad we are not tacking in consideration:"
   ]
  },
  {
   "cell_type": "code",
   "execution_count": null,
   "metadata": {},
   "outputs": [],
   "source": [
    "%matplotlib inline\n",
    "\n",
    "from sklearn import linear_model, metrics\n",
    "from sklearn.metrics import mean_squared_error, r2_score\n",
    "from sklearn.model_selection import train_test_split\n",
    "from sklearn.preprocessing import PolynomialFeatures\n",
    "import math, scipy, numpy as np\n",
    "from scipy import linalg\n",
    "import pandas as pd\n",
    "\n",
    "import seaborn as sns\n",
    "import matplotlib.pyplot as plt\n",
    "import sys #only needed to determine Python version number\n",
    "import matplotlib #only needed to determine Matplotlib version number\n",
    "sns.set(style=\"darkgrid\")\n"
   ]
  },
  {
   "cell_type": "code",
   "execution_count": null,
   "metadata": {},
   "outputs": [],
   "source": [
    "# Check the version of the packages\n",
    "\n",
    "print('Python version ' + sys.version)\n",
    "print('Pandas version ' + pd.__version__)\n",
    "print('Matplotlib version ' + matplotlib.__version__)\n",
    "print('Numpy version ' + np.__version__)\n",
    "print('Seaborn version ' + sns.__version__)"
   ]
  },
  {
   "cell_type": "code",
   "execution_count": null,
   "metadata": {},
   "outputs": [],
   "source": [
    "url_data = \"https://raw.githubusercontent.com/sb0709/bootcamp_KSU/master/Data/data_reg.csv\"\n",
    "df = pd.read_csv(url_data,sep=',' ) # for specify the index we use here the colums \"0\" when reading the data: , index_col=0\n",
    "data = df.copy() # create dataframe \"data\" as making a copy of the \"df\" dataframe"
   ]
  },
  {
   "cell_type": "code",
   "execution_count": null,
   "metadata": {},
   "outputs": [],
   "source": [
    "# Check the column names\n",
    "print(list(df.columns))\n",
    "print()\n",
    "print(list(data.columns))"
   ]
  },
  {
   "cell_type": "markdown",
   "metadata": {},
   "source": [
    "# Let just do a Simple (single variable) Linear Regression model"
   ]
  },
  {
   "cell_type": "code",
   "execution_count": null,
   "metadata": {},
   "outputs": [],
   "source": [
    "y = df['RBAL']\n",
    "X = df['CRELIM']\n",
    "\n",
    "X = X.values\n",
    "y = y.values"
   ]
  },
  {
   "cell_type": "code",
   "execution_count": null,
   "metadata": {},
   "outputs": [],
   "source": [
    "#split/create the dataset in train and test 70/30\n",
    "X_train, X_test, y_train, y_test = train_test_split(X, y, test_size=0.3, random_state=0)\n",
    "\n",
    "# Plot outputs\n",
    "plt.scatter(X_test, y_test,  color='green')\n",
    "plt.title('Test Data')\n",
    "plt.xlabel('Credit Limit')\n",
    "plt.ylabel('RBAL')\n",
    "plt.xticks(())\n",
    "plt.yticks(())\n",
    " \n",
    "plt.show()"
   ]
  },
  {
   "cell_type": "code",
   "execution_count": null,
   "metadata": {},
   "outputs": [],
   "source": [
    "X=X.reshape(len(X),1)\n",
    "y=y.reshape(len(y),1)"
   ]
  },
  {
   "cell_type": "markdown",
   "metadata": {},
   "source": [
    "# Create and fit the model sklearn"
   ]
  },
  {
   "cell_type": "code",
   "execution_count": null,
   "metadata": {},
   "outputs": [],
   "source": [
    "# adapted from http://scikit-learn.org/stable/auto_examples/linear_model/plot_ols.html#sphx-glr-auto-examples-linear-model-plot-ols-py\n",
    "\n",
    "\n",
    "#split/create the dataset in train and test 70/30\n",
    "X_train, X_test, y_train, y_test = train_test_split(X, y, test_size=0.3, random_state=0)\n",
    "\n",
    "# Create linear regression object\n",
    "regr = linear_model.LinearRegression()\n",
    " \n",
    "# Train the model using the training sets\n",
    "regr.fit(X_train, y_train)\n",
    " \n",
    "# Plot outputs\n",
    "#plt.plot(X_test, regr.predict(X_test), color='red',linewidth=3)\n",
    "\n",
    "# Make predictions using the testing set\n",
    "y_pred = regr.predict(X_test)\n",
    "\n",
    "# The coefficients\n",
    "print('Coefficients: \\n', regr.coef_)\n",
    "# The mean squared error\n",
    "print(\"Mean squared error: %.2f\"\n",
    "      % mean_squared_error(y_test, y_pred))\n",
    "# Explained variance score: 1 is perfect prediction\n",
    "print('Variance score: %.2f' % r2_score(y_test, y_pred))\n",
    "\n",
    "# Plot outputs\n",
    "plt.scatter(X_test, y_test,  color='green')\n",
    "plt.plot(X_test, y_pred, color='red', linewidth=3)\n",
    "\n",
    "plt.xticks(())\n",
    "plt.yticks(())\n",
    "\n",
    "plt.show()"
   ]
  },
  {
   "cell_type": "code",
   "execution_count": null,
   "metadata": {},
   "outputs": [],
   "source": [
    "# prediction we can do as follow:\n",
    "print((regr.predict(5000)))"
   ]
  },
  {
   "cell_type": "markdown",
   "metadata": {},
   "source": [
    "### Using statsmodels"
   ]
  },
  {
   "cell_type": "code",
   "execution_count": null,
   "metadata": {},
   "outputs": [],
   "source": [
    "# this is the standard import if you're using \"formula notation\" (similar to R)\n",
    "import statsmodels.formula.api as sm\n",
    "\n",
    "# create a fitted model in one line\n",
    "lm = sm.ols(formula='RBAL ~ CRELIM', data=df).fit()\n",
    "\n",
    "# print the coefficients\n",
    "lm.params"
   ]
  },
  {
   "cell_type": "markdown",
   "metadata": {},
   "source": [
    "### Interpreting Model Coefficients\n",
    "How do we interpret the CRELIM coefficient ($\\beta_1$)?\n",
    "\n",
    "* A \"unit\" increase in CRELIM ad spending is associated with a 1.086316 \"unit\" increase in RBAL.\n",
    "\n",
    "Note that if an increase in TV ad spending was associated with a decrease in sales, $\\beta_1$ would be negative."
   ]
  },
  {
   "cell_type": "code",
   "execution_count": null,
   "metadata": {},
   "outputs": [],
   "source": [
    "# manually calculate the prediction\n",
    "y2 = 4995.947242 + 1.086316*2\n",
    "\n",
    "y2"
   ]
  },
  {
   "cell_type": "code",
   "execution_count": null,
   "metadata": {},
   "outputs": [],
   "source": [
    "# Plot the Least Square Line:"
   ]
  },
  {
   "cell_type": "code",
   "execution_count": null,
   "metadata": {},
   "outputs": [],
   "source": [
    "# create a DataFrame with the minimum and maximum values of TV\n",
    "X_new = pd.DataFrame({'CRELIM': [df.CRELIM.min(), df.CRELIM.max()]})\n",
    "X_new.head()"
   ]
  },
  {
   "cell_type": "code",
   "execution_count": null,
   "metadata": {},
   "outputs": [],
   "source": [
    "# make predictions for those x values and store them# make p \n",
    "preds = lm.predict(X_new)\n",
    "preds"
   ]
  },
  {
   "cell_type": "code",
   "execution_count": null,
   "metadata": {},
   "outputs": [],
   "source": [
    "# first, plot the observed data\n",
    "data.plot(kind='scatter', x='CRELIM', y='RBAL')\n",
    "\n",
    "# then, plot the least squares line\n",
    "plt.plot(X_new, preds, c='red', linewidth=2)"
   ]
  },
  {
   "cell_type": "code",
   "execution_count": null,
   "metadata": {},
   "outputs": [],
   "source": [
    "# print the confidence intervals for the model coefficients  \n",
    "lm.conf_int()"
   ]
  },
  {
   "cell_type": "code",
   "execution_count": null,
   "metadata": {},
   "outputs": [],
   "source": [
    "# print the p-values for the model coefficients\n",
    "lm.pvalues"
   ]
  },
  {
   "cell_type": "code",
   "execution_count": null,
   "metadata": {},
   "outputs": [],
   "source": [
    "# print a summary of the fitted model\n",
    "lm.summary()"
   ]
  },
  {
   "cell_type": "markdown",
   "metadata": {
    "collapsed": true
   },
   "source": [
    "# Multivariable Linear Regression Model Example\n",
    "\n"
   ]
  },
  {
   "cell_type": "code",
   "execution_count": null,
   "metadata": {},
   "outputs": [],
   "source": [
    "# visualize the relationship between the features and the response using scatterplots\n",
    "fig, axs = plt.subplots(1, 4, sharey=True)\n",
    "data.plot(kind='scatter', x='TRADES', y='RBAL', ax=axs[0], figsize=(16, 8))\n",
    "data.plot(kind='scatter', x='BRNEW', y='RBAL', ax=axs[1])\n",
    "data.plot(kind='scatter', x='BRAGE', y='RBAL', ax=axs[2])\n",
    "data.plot(kind='scatter', x='CRELIM', y='RBAL', ax=axs[3])"
   ]
  },
  {
   "cell_type": "code",
   "execution_count": null,
   "metadata": {},
   "outputs": [],
   "source": [
    "# create a fitted model with all three features# create \n",
    "lm = sm.ols(formula='RBAL ~ CRELIM + TRADES + BRNEW + BRAGE ', data=df).fit()\n",
    "\n",
    "# print the coefficients\n",
    "lm.params"
   ]
  },
  {
   "cell_type": "code",
   "execution_count": null,
   "metadata": {},
   "outputs": [],
   "source": [
    "# print a summary of the fitted model\n",
    "lm.summary()"
   ]
  },
  {
   "cell_type": "code",
   "execution_count": null,
   "metadata": {},
   "outputs": [],
   "source": [
    "# print the p-values for the model coefficients\n",
    "lm.pvalues"
   ]
  },
  {
   "cell_type": "markdown",
   "metadata": {},
   "source": [
    "# Use sklearn for Linear Regression:"
   ]
  },
  {
   "cell_type": "code",
   "execution_count": null,
   "metadata": {},
   "outputs": [],
   "source": [
    "# p-value and CI is not easy accesible in sklearn and needs calculation mostly. \n",
    "\n",
    "# create X and y# create \n",
    "feature_cols = ['CRELIM', 'TRADES', 'BRNEW', 'BRAGE']\n",
    "X = df[feature_cols]\n",
    "y = df.RBAL\n",
    "\n",
    "# follow the usual sklearn pattern: import, instantiate, fit\n",
    "from sklearn.linear_model import LinearRegression\n",
    "lm = LinearRegression()\n",
    "lm.fit(X, y)\n",
    "\n",
    "# print intercept and coefficients\n",
    "print(lm.intercept_)\n",
    "print(lm.coef_)"
   ]
  },
  {
   "cell_type": "code",
   "execution_count": null,
   "metadata": {},
   "outputs": [],
   "source": [
    "# pair the feature names with the coefficients\n",
    "# builtin function zip does create an obsect so we list to can get the content\n",
    "# source: https://docs.python.org/3/library/functions.html\n",
    "\n",
    "zipped = zip(feature_cols, lm.coef_)"
   ]
  },
  {
   "cell_type": "code",
   "execution_count": null,
   "metadata": {},
   "outputs": [],
   "source": [
    "# pair the feature names with the coefficients\n",
    "\n",
    "list(zipped)"
   ]
  },
  {
   "cell_type": "markdown",
   "metadata": {},
   "source": [
    "# Q&A"
   ]
  },
  {
   "cell_type": "code",
   "execution_count": null,
   "metadata": {},
   "outputs": [],
   "source": []
  }
 ],
 "metadata": {
  "kernelspec": {
   "display_name": "Python36(bootcampDS)",
   "language": "python",
   "name": "bootcamp_ds"
  },
  "language_info": {
   "codemirror_mode": {
    "name": "ipython",
    "version": 3
   },
   "file_extension": ".py",
   "mimetype": "text/x-python",
   "name": "python",
   "nbconvert_exporter": "python",
   "pygments_lexer": "ipython3",
   "version": "3.6.6"
  }
 },
 "nbformat": 4,
 "nbformat_minor": 2
}
