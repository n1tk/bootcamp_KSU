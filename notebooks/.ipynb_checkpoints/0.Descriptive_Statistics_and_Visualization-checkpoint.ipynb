{
 "cells": [
  {
   "cell_type": "markdown",
   "metadata": {},
   "source": [
    "# A bit about programming in python"
   ]
  },
  {
   "cell_type": "markdown",
   "metadata": {},
   "source": [
    "Very good online free resources on python: \n",
    "* http://interactivepython.org/courselib/static/thinkcspy/index.html\n",
    "* http://www.diveintopython3.net/index.html\n",
    "* https://www.python-course.eu/python3_course.php\n",
    "* https://www.python.org/about/gettingstarted/\n",
    "* https://wiki.python.org/moin/BeginnersGuide/Programmers\n"
   ]
  },
  {
   "cell_type": "code",
   "execution_count": null,
   "metadata": {},
   "outputs": [],
   "source": []
  }
 ],
 "metadata": {
  "kernelspec": {
   "display_name": "Python36 (bootcamp_conda_ksu)",
   "language": "python",
   "name": "bootcamp_conda_ksu"
  },
  "language_info": {
   "codemirror_mode": {
    "name": "ipython",
    "version": 3
   },
   "file_extension": ".py",
   "mimetype": "text/x-python",
   "name": "python",
   "nbconvert_exporter": "python",
   "pygments_lexer": "ipython3",
   "version": "3.6.6"
  }
 },
 "nbformat": 4,
 "nbformat_minor": 2
}
