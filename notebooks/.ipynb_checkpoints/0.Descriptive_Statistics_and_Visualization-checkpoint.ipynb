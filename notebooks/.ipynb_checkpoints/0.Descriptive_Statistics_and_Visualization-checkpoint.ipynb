{
 "cells": [
  {
   "cell_type": "markdown",
   "metadata": {},
   "source": [
    "# A bit about programming in python"
   ]
  },
  {
   "cell_type": "markdown",
   "metadata": {},
   "source": [
    "Very good online free resources on python: \n",
    "* http://interactivepython.org/courselib/static/thinkcspy/index.html\n",
    "* http://www.diveintopython3.net/index.html\n",
    "* https://www.python-course.eu/python3_course.php\n",
    "* https://www.python.org/about/gettingstarted/\n",
    "* https://wiki.python.org/moin/BeginnersGuide/Programmers\n"
   ]
  },
  {
   "cell_type": "code",
   "execution_count": null,
   "metadata": {},
   "outputs": [],
   "source": []
  },
  {
   "cell_type": "code",
   "execution_count": null,
   "metadata": {},
   "outputs": [],
   "source": []
  },
  {
   "cell_type": "code",
   "execution_count": null,
   "metadata": {},
   "outputs": [],
   "source": []
  },
  {
   "cell_type": "code",
   "execution_count": null,
   "metadata": {},
   "outputs": [],
   "source": []
  },
  {
   "cell_type": "code",
   "execution_count": null,
   "metadata": {},
   "outputs": [],
   "source": []
  },
  {
   "cell_type": "code",
   "execution_count": null,
   "metadata": {},
   "outputs": [],
   "source": []
  },
  {
   "cell_type": "markdown",
   "metadata": {},
   "source": [
    "# Visualizing statistical relationship"
   ]
  },
  {
   "cell_type": "code",
   "execution_count": 1,
   "metadata": {},
   "outputs": [],
   "source": [
    "\n",
    "import numpy as np\n",
    "import pandas as pd\n",
    "import matplotlib.pyplot as plt\n",
    "import seaborn as sns\n",
    "sns.set(style=\"darkgrid\")\n"
   ]
  },
  {
   "cell_type": "code",
   "execution_count": 2,
   "metadata": {},
   "outputs": [],
   "source": [
    "url_data = \"https://raw.githubusercontent.com/sb0709/bootcamp_KSU/master/Data/data_reg.csv\"\n",
    "df = pd.read_csv(url_data,sep=',' ) # for specify the index we use here the colums \"0\" when reading the data: , index_col=0"
   ]
  },
  {
   "cell_type": "markdown",
   "metadata": {},
   "source": [
    "### Relating variables with scatter plots\n",
    "\n",
    "* https://seaborn.pydata.org/tutorial/relational.html\n",
    "\n",
    "\n",
    "``` The scatter plot is a mainstay of statistical visualization. It depicts the joint distribution of two variables using a cloud of points, where each point represents an observation in the dataset. This depiction allows the eye to infer a substantial amount of information about whether there is any meaningful relationship between them.\n",
    "```\n",
    "\n",
    "```\n",
    "There are several ways to draw a scatter plot in seaborn. The most basic, which should be used when both variables are numeric, is the scatterplot() function. In the categorical visualization tutorial, we will see specialized tools for using scatterplots to visualize categorical data. The scatterplot() is the default kind in relplot() (it can also be forced by setting kind=\"scatter\"):```"
   ]
  },
  {
   "cell_type": "code",
   "execution_count": 7,
   "metadata": {},
   "outputs": [
    {
     "data": {
      "text/plain": [
       "['MATCHKEY',\n",
       " 'RBAL',\n",
       " 'TRADES',\n",
       " 'AGE',\n",
       " 'AGE_groups',\n",
       " 'DELQID',\n",
       " 'CRELIM',\n",
       " 'goodbad',\n",
       " 'BRNEW',\n",
       " 'BRAGE']"
      ]
     },
     "execution_count": 7,
     "metadata": {},
     "output_type": "execute_result"
    }
   ],
   "source": [
    "list(df.columns)"
   ]
  },
  {
   "cell_type": "code",
   "execution_count": null,
   "metadata": {},
   "outputs": [],
   "source": [
    "sns.relplot(x=\"total_bill\", y=\"goodbad\", data=tips);"
   ]
  }
 ],
 "metadata": {
  "kernelspec": {
   "display_name": "Python36 (bootcamp_conda_ksu)",
   "language": "python",
   "name": "bootcamp_conda_ksu"
  },
  "language_info": {
   "codemirror_mode": {
    "name": "ipython",
    "version": 3
   },
   "file_extension": ".py",
   "mimetype": "text/x-python",
   "name": "python",
   "nbconvert_exporter": "python",
   "pygments_lexer": "ipython3",
   "version": "3.6.6"
  }
 },
 "nbformat": 4,
 "nbformat_minor": 2
}
