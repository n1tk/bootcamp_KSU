{
 "cells": [
  {
   "cell_type": "markdown",
   "metadata": {},
   "source": [
    "# Need to complete example using sklearn."
   ]
  },
  {
   "cell_type": "code",
   "execution_count": 22,
   "metadata": {},
   "outputs": [],
   "source": [
    "%matplotlib inline\n",
    "# import required libraries\n",
    "\n",
    "import pandas as pd\n",
    "import numpy as np\n",
    "import matplotlib.pyplot as plt\n",
    "import seaborn as sns\n",
    "\n",
    "from sklearn import preprocessing\n",
    "from sklearn.model_selection import train_test_split\n",
    "from sklearn.linear_model import LogisticRegression\n",
    "import statsmodels.api as sm\n",
    "\n",
    "import math, scipy, numpy as np\n",
    "from scipy import linalg\n",
    "\n",
    "import seaborn as sns\n",
    "import sys #only needed to determine Python version number\n",
    "import matplotlib #only needed to determine Matplotlib version number\n",
    "sns.set(style=\"darkgrid\")\n",
    "\n",
    "\n",
    "#http://scikit-learn.org/stable/modules/generated/sklearn.model_selection.train_test_split.html"
   ]
  },
  {
   "cell_type": "code",
   "execution_count": 23,
   "metadata": {},
   "outputs": [
    {
     "name": "stdout",
     "output_type": "stream",
     "text": [
      "Python version 3.6.6 | packaged by conda-forge | (default, Jul 26 2018, 09:55:02) \n",
      "[GCC 4.2.1 Compatible Apple LLVM 6.1.0 (clang-602.0.53)]\n",
      "Pandas version 0.23.4\n",
      "Matplotlib version 2.2.3\n",
      "Numpy version 1.13.1\n",
      "Seaborn version 0.9.0\n"
     ]
    }
   ],
   "source": [
    "# Check the version of the packages\n",
    "\n",
    "print('Python version ' + sys.version)\n",
    "print('Pandas version ' + pd.__version__)\n",
    "print('Matplotlib version ' + matplotlib.__version__)\n",
    "print('Numpy version ' + np.__version__)\n",
    "print('Seaborn version ' + sns.__version__)"
   ]
  },
  {
   "cell_type": "code",
   "execution_count": 3,
   "metadata": {},
   "outputs": [],
   "source": [
    "url_data = \"https://raw.githubusercontent.com/sb0709/bootcamp_KSU/master/Data/data.csv\"\n",
    "data = pd.read_csv(url_data,sep=',' ) # for specify the index we use here the colums \"0\" when reading the data: , index_col=0"
   ]
  },
  {
   "cell_type": "code",
   "execution_count": 4,
   "metadata": {},
   "outputs": [
    {
     "data": {
      "text/plain": [
       "(1000, 11)"
      ]
     },
     "execution_count": 4,
     "metadata": {},
     "output_type": "execute_result"
    }
   ],
   "source": [
    "data.shape"
   ]
  },
  {
   "cell_type": "code",
   "execution_count": 5,
   "metadata": {},
   "outputs": [
    {
     "name": "stdout",
     "output_type": "stream",
     "text": [
      "['Unnamed: 0', 'MATCHKEY', 'RBAL', 'TRADES', 'AGE', 'AGE_groups', 'DELQID', 'CRELIM', 'goodbad', 'BRNEW', 'BRAGE']\n"
     ]
    }
   ],
   "source": [
    "print(list(data.columns))"
   ]
  },
  {
   "cell_type": "code",
   "execution_count": 6,
   "metadata": {},
   "outputs": [
    {
     "data": {
      "text/html": [
       "<div>\n",
       "<style scoped>\n",
       "    .dataframe tbody tr th:only-of-type {\n",
       "        vertical-align: middle;\n",
       "    }\n",
       "\n",
       "    .dataframe tbody tr th {\n",
       "        vertical-align: top;\n",
       "    }\n",
       "\n",
       "    .dataframe thead th {\n",
       "        text-align: right;\n",
       "    }\n",
       "</style>\n",
       "<table border=\"1\" class=\"dataframe\">\n",
       "  <thead>\n",
       "    <tr style=\"text-align: right;\">\n",
       "      <th></th>\n",
       "      <th>Unnamed: 0</th>\n",
       "      <th>MATCHKEY</th>\n",
       "      <th>RBAL</th>\n",
       "      <th>TRADES</th>\n",
       "      <th>AGE</th>\n",
       "      <th>AGE_groups</th>\n",
       "      <th>DELQID</th>\n",
       "      <th>CRELIM</th>\n",
       "      <th>goodbad</th>\n",
       "      <th>BRNEW</th>\n",
       "      <th>BRAGE</th>\n",
       "    </tr>\n",
       "  </thead>\n",
       "  <tbody>\n",
       "    <tr>\n",
       "      <th>0</th>\n",
       "      <td>0</td>\n",
       "      <td>16345246</td>\n",
       "      <td>1492</td>\n",
       "      <td>4</td>\n",
       "      <td>39</td>\n",
       "      <td>AG_30_50</td>\n",
       "      <td>1</td>\n",
       "      <td>750</td>\n",
       "      <td>0</td>\n",
       "      <td>5</td>\n",
       "      <td>20</td>\n",
       "    </tr>\n",
       "    <tr>\n",
       "      <th>1</th>\n",
       "      <td>1</td>\n",
       "      <td>13728016</td>\n",
       "      <td>0</td>\n",
       "      <td>3</td>\n",
       "      <td>71</td>\n",
       "      <td>AG_70_UP</td>\n",
       "      <td>0</td>\n",
       "      <td>3250</td>\n",
       "      <td>0</td>\n",
       "      <td>19</td>\n",
       "      <td>19</td>\n",
       "    </tr>\n",
       "    <tr>\n",
       "      <th>2</th>\n",
       "      <td>2</td>\n",
       "      <td>14716776</td>\n",
       "      <td>854</td>\n",
       "      <td>9</td>\n",
       "      <td>30</td>\n",
       "      <td>AG_0_30</td>\n",
       "      <td>4</td>\n",
       "      <td>500</td>\n",
       "      <td>1</td>\n",
       "      <td>0</td>\n",
       "      <td>46</td>\n",
       "    </tr>\n",
       "    <tr>\n",
       "      <th>3</th>\n",
       "      <td>3</td>\n",
       "      <td>14568809</td>\n",
       "      <td>408</td>\n",
       "      <td>13</td>\n",
       "      <td>28</td>\n",
       "      <td>AG_0_30</td>\n",
       "      <td>1</td>\n",
       "      <td>3000</td>\n",
       "      <td>0</td>\n",
       "      <td>2</td>\n",
       "      <td>33</td>\n",
       "    </tr>\n",
       "    <tr>\n",
       "      <th>4</th>\n",
       "      <td>4</td>\n",
       "      <td>13513749</td>\n",
       "      <td>4965</td>\n",
       "      <td>41</td>\n",
       "      <td>51</td>\n",
       "      <td>AG_50_70</td>\n",
       "      <td>0</td>\n",
       "      <td>500</td>\n",
       "      <td>0</td>\n",
       "      <td>3</td>\n",
       "      <td>68</td>\n",
       "    </tr>\n",
       "  </tbody>\n",
       "</table>\n",
       "</div>"
      ],
      "text/plain": [
       "   Unnamed: 0  MATCHKEY  RBAL  TRADES  AGE AGE_groups  DELQID  CRELIM  \\\n",
       "0           0  16345246  1492       4   39   AG_30_50       1     750   \n",
       "1           1  13728016     0       3   71   AG_70_UP       0    3250   \n",
       "2           2  14716776   854       9   30    AG_0_30       4     500   \n",
       "3           3  14568809   408      13   28    AG_0_30       1    3000   \n",
       "4           4  13513749  4965      41   51   AG_50_70       0     500   \n",
       "\n",
       "   goodbad  BRNEW  BRAGE  \n",
       "0        0      5     20  \n",
       "1        0     19     19  \n",
       "2        1      0     46  \n",
       "3        0      2     33  \n",
       "4        0      3     68  "
      ]
     },
     "execution_count": 6,
     "metadata": {},
     "output_type": "execute_result"
    }
   ],
   "source": [
    "data.head()"
   ]
  },
  {
   "cell_type": "code",
   "execution_count": 7,
   "metadata": {},
   "outputs": [],
   "source": [
    "# drop the order number column\n",
    "\n",
    "data = data.drop(['Unnamed: 0'], axis=1)"
   ]
  },
  {
   "cell_type": "code",
   "execution_count": 8,
   "metadata": {},
   "outputs": [
    {
     "data": {
      "text/html": [
       "<div>\n",
       "<style scoped>\n",
       "    .dataframe tbody tr th:only-of-type {\n",
       "        vertical-align: middle;\n",
       "    }\n",
       "\n",
       "    .dataframe tbody tr th {\n",
       "        vertical-align: top;\n",
       "    }\n",
       "\n",
       "    .dataframe thead th {\n",
       "        text-align: right;\n",
       "    }\n",
       "</style>\n",
       "<table border=\"1\" class=\"dataframe\">\n",
       "  <thead>\n",
       "    <tr style=\"text-align: right;\">\n",
       "      <th></th>\n",
       "      <th>MATCHKEY</th>\n",
       "      <th>RBAL</th>\n",
       "      <th>TRADES</th>\n",
       "      <th>AGE</th>\n",
       "      <th>AGE_groups</th>\n",
       "      <th>DELQID</th>\n",
       "      <th>CRELIM</th>\n",
       "      <th>goodbad</th>\n",
       "      <th>BRNEW</th>\n",
       "      <th>BRAGE</th>\n",
       "    </tr>\n",
       "  </thead>\n",
       "  <tbody>\n",
       "    <tr>\n",
       "      <th>0</th>\n",
       "      <td>16345246</td>\n",
       "      <td>1492</td>\n",
       "      <td>4</td>\n",
       "      <td>39</td>\n",
       "      <td>AG_30_50</td>\n",
       "      <td>1</td>\n",
       "      <td>750</td>\n",
       "      <td>0</td>\n",
       "      <td>5</td>\n",
       "      <td>20</td>\n",
       "    </tr>\n",
       "    <tr>\n",
       "      <th>1</th>\n",
       "      <td>13728016</td>\n",
       "      <td>0</td>\n",
       "      <td>3</td>\n",
       "      <td>71</td>\n",
       "      <td>AG_70_UP</td>\n",
       "      <td>0</td>\n",
       "      <td>3250</td>\n",
       "      <td>0</td>\n",
       "      <td>19</td>\n",
       "      <td>19</td>\n",
       "    </tr>\n",
       "    <tr>\n",
       "      <th>2</th>\n",
       "      <td>14716776</td>\n",
       "      <td>854</td>\n",
       "      <td>9</td>\n",
       "      <td>30</td>\n",
       "      <td>AG_0_30</td>\n",
       "      <td>4</td>\n",
       "      <td>500</td>\n",
       "      <td>1</td>\n",
       "      <td>0</td>\n",
       "      <td>46</td>\n",
       "    </tr>\n",
       "    <tr>\n",
       "      <th>3</th>\n",
       "      <td>14568809</td>\n",
       "      <td>408</td>\n",
       "      <td>13</td>\n",
       "      <td>28</td>\n",
       "      <td>AG_0_30</td>\n",
       "      <td>1</td>\n",
       "      <td>3000</td>\n",
       "      <td>0</td>\n",
       "      <td>2</td>\n",
       "      <td>33</td>\n",
       "    </tr>\n",
       "    <tr>\n",
       "      <th>4</th>\n",
       "      <td>13513749</td>\n",
       "      <td>4965</td>\n",
       "      <td>41</td>\n",
       "      <td>51</td>\n",
       "      <td>AG_50_70</td>\n",
       "      <td>0</td>\n",
       "      <td>500</td>\n",
       "      <td>0</td>\n",
       "      <td>3</td>\n",
       "      <td>68</td>\n",
       "    </tr>\n",
       "  </tbody>\n",
       "</table>\n",
       "</div>"
      ],
      "text/plain": [
       "   MATCHKEY  RBAL  TRADES  AGE AGE_groups  DELQID  CRELIM  goodbad  BRNEW  \\\n",
       "0  16345246  1492       4   39   AG_30_50       1     750        0      5   \n",
       "1  13728016     0       3   71   AG_70_UP       0    3250        0     19   \n",
       "2  14716776   854       9   30    AG_0_30       4     500        1      0   \n",
       "3  14568809   408      13   28    AG_0_30       1    3000        0      2   \n",
       "4  13513749  4965      41   51   AG_50_70       0     500        0      3   \n",
       "\n",
       "   BRAGE  \n",
       "0     20  \n",
       "1     19  \n",
       "2     46  \n",
       "3     33  \n",
       "4     68  "
      ]
     },
     "execution_count": 8,
     "metadata": {},
     "output_type": "execute_result"
    }
   ],
   "source": [
    "data.head()"
   ]
  },
  {
   "cell_type": "code",
   "execution_count": 9,
   "metadata": {},
   "outputs": [
    {
     "data": {
      "text/plain": [
       "0    813\n",
       "1    187\n",
       "Name: goodbad, dtype: int64"
      ]
     },
     "execution_count": 9,
     "metadata": {},
     "output_type": "execute_result"
    }
   ],
   "source": [
    "# EDA\n",
    "# Lets make the 'MATCHKEY' as index for our analysis\n",
    "data.set_index('MATCHKEY', inplace=True) # inplace is to do replace int he currect dataframe, we can also assign the data to a new dataframe with the transofmations.\n",
    "\n",
    "\n",
    "data['goodbad'].value_counts()"
   ]
  },
  {
   "cell_type": "code",
   "execution_count": 10,
   "metadata": {},
   "outputs": [
    {
     "data": {
      "image/png": "[encoded data removed]",
      "text/plain": [
       "<Figure size 432x288 with 1 Axes>"
      ]
     },
     "metadata": {},
     "output_type": "display_data"
    }
   ],
   "source": [
    "# plot the 'goodbad' column\n",
    "# https://seaborn.pydata.org/generated/seaborn.countplot.html\n",
    "\n",
    "sns.set(style=\"darkgrid\")\n",
    "ax = sns.countplot(x=\"goodbad\", data=data)\n"
   ]
  },
  {
   "cell_type": "code",
   "execution_count": 11,
   "metadata": {},
   "outputs": [
    {
     "data": {
      "text/html": [
       "<div>\n",
       "<style scoped>\n",
       "    .dataframe tbody tr th:only-of-type {\n",
       "        vertical-align: middle;\n",
       "    }\n",
       "\n",
       "    .dataframe tbody tr th {\n",
       "        vertical-align: top;\n",
       "    }\n",
       "\n",
       "    .dataframe thead th {\n",
       "        text-align: right;\n",
       "    }\n",
       "</style>\n",
       "<table border=\"1\" class=\"dataframe\">\n",
       "  <thead>\n",
       "    <tr style=\"text-align: right;\">\n",
       "      <th></th>\n",
       "      <th>RBAL</th>\n",
       "      <th>TRADES</th>\n",
       "      <th>AGE</th>\n",
       "      <th>DELQID</th>\n",
       "      <th>CRELIM</th>\n",
       "      <th>BRNEW</th>\n",
       "      <th>BRAGE</th>\n",
       "    </tr>\n",
       "    <tr>\n",
       "      <th>goodbad</th>\n",
       "      <th></th>\n",
       "      <th></th>\n",
       "      <th></th>\n",
       "      <th></th>\n",
       "      <th></th>\n",
       "      <th></th>\n",
       "      <th></th>\n",
       "    </tr>\n",
       "  </thead>\n",
       "  <tbody>\n",
       "    <tr>\n",
       "      <th>0</th>\n",
       "      <td>7225.330873</td>\n",
       "      <td>19.060271</td>\n",
       "      <td>48.107011</td>\n",
       "      <td>0.359164</td>\n",
       "      <td>2326.392374</td>\n",
       "      <td>16.809348</td>\n",
       "      <td>109.514145</td>\n",
       "    </tr>\n",
       "    <tr>\n",
       "      <th>1</th>\n",
       "      <td>8174.598930</td>\n",
       "      <td>19.716578</td>\n",
       "      <td>45.577540</td>\n",
       "      <td>5.818182</td>\n",
       "      <td>1734.187166</td>\n",
       "      <td>16.540107</td>\n",
       "      <td>98.593583</td>\n",
       "    </tr>\n",
       "  </tbody>\n",
       "</table>\n",
       "</div>"
      ],
      "text/plain": [
       "                RBAL     TRADES        AGE    DELQID       CRELIM      BRNEW  \\\n",
       "goodbad                                                                        \n",
       "0        7225.330873  19.060271  48.107011  0.359164  2326.392374  16.809348   \n",
       "1        8174.598930  19.716578  45.577540  5.818182  1734.187166  16.540107   \n",
       "\n",
       "              BRAGE  \n",
       "goodbad              \n",
       "0        109.514145  \n",
       "1         98.593583  "
      ]
     },
     "execution_count": 11,
     "metadata": {},
     "output_type": "execute_result"
    }
   ],
   "source": [
    "# https://pandas.pydata.org/pandas-docs/stable/generated/pandas.DataFrame.groupby.html\n",
    "\n",
    "# Here we move on to take a look of the mean/average of the data accros the 2 classes for the 'goodbad'\n",
    "\n",
    "# Note: we can calculate the average accros other categorical variable\n",
    "\n",
    "\n",
    "\n",
    "\n",
    "data.groupby('goodbad').mean()"
   ]
  },
  {
   "cell_type": "code",
   "execution_count": 12,
   "metadata": {},
   "outputs": [
    {
     "data": {
      "text/html": [
       "<div>\n",
       "<style scoped>\n",
       "    .dataframe tbody tr th:only-of-type {\n",
       "        vertical-align: middle;\n",
       "    }\n",
       "\n",
       "    .dataframe tbody tr th {\n",
       "        vertical-align: top;\n",
       "    }\n",
       "\n",
       "    .dataframe thead th {\n",
       "        text-align: right;\n",
       "    }\n",
       "</style>\n",
       "<table border=\"1\" class=\"dataframe\">\n",
       "  <thead>\n",
       "    <tr style=\"text-align: right;\">\n",
       "      <th></th>\n",
       "      <th>RBAL</th>\n",
       "      <th>TRADES</th>\n",
       "      <th>AGE</th>\n",
       "      <th>DELQID</th>\n",
       "      <th>CRELIM</th>\n",
       "      <th>goodbad</th>\n",
       "      <th>BRNEW</th>\n",
       "      <th>BRAGE</th>\n",
       "    </tr>\n",
       "    <tr>\n",
       "      <th>AGE_groups</th>\n",
       "      <th></th>\n",
       "      <th></th>\n",
       "      <th></th>\n",
       "      <th></th>\n",
       "      <th></th>\n",
       "      <th></th>\n",
       "      <th></th>\n",
       "      <th></th>\n",
       "    </tr>\n",
       "  </thead>\n",
       "  <tbody>\n",
       "    <tr>\n",
       "      <th>AG_0_30</th>\n",
       "      <td>4325.703704</td>\n",
       "      <td>13.771605</td>\n",
       "      <td>25.481481</td>\n",
       "      <td>1.506173</td>\n",
       "      <td>1967.290123</td>\n",
       "      <td>0.191358</td>\n",
       "      <td>15.654321</td>\n",
       "      <td>57.259259</td>\n",
       "    </tr>\n",
       "    <tr>\n",
       "      <th>AG_30_50</th>\n",
       "      <td>6801.691244</td>\n",
       "      <td>19.165899</td>\n",
       "      <td>41.520737</td>\n",
       "      <td>1.557604</td>\n",
       "      <td>2242.470046</td>\n",
       "      <td>0.221198</td>\n",
       "      <td>17.520737</td>\n",
       "      <td>101.910138</td>\n",
       "    </tr>\n",
       "    <tr>\n",
       "      <th>AG_50_70</th>\n",
       "      <td>9584.553797</td>\n",
       "      <td>21.803797</td>\n",
       "      <td>59.161392</td>\n",
       "      <td>1.208861</td>\n",
       "      <td>2329.234177</td>\n",
       "      <td>0.161392</td>\n",
       "      <td>15.724684</td>\n",
       "      <td>132.003165</td>\n",
       "    </tr>\n",
       "    <tr>\n",
       "      <th>AG_70_UP</th>\n",
       "      <td>8198.034091</td>\n",
       "      <td>19.818182</td>\n",
       "      <td>77.170455</td>\n",
       "      <td>0.886364</td>\n",
       "      <td>2132.715909</td>\n",
       "      <td>0.102273</td>\n",
       "      <td>18.750000</td>\n",
       "      <td>139.250000</td>\n",
       "    </tr>\n",
       "  </tbody>\n",
       "</table>\n",
       "</div>"
      ],
      "text/plain": [
       "                   RBAL     TRADES        AGE    DELQID       CRELIM  \\\n",
       "AGE_groups                                                             \n",
       "AG_0_30     4325.703704  13.771605  25.481481  1.506173  1967.290123   \n",
       "AG_30_50    6801.691244  19.165899  41.520737  1.557604  2242.470046   \n",
       "AG_50_70    9584.553797  21.803797  59.161392  1.208861  2329.234177   \n",
       "AG_70_UP    8198.034091  19.818182  77.170455  0.886364  2132.715909   \n",
       "\n",
       "             goodbad      BRNEW       BRAGE  \n",
       "AGE_groups                                   \n",
       "AG_0_30     0.191358  15.654321   57.259259  \n",
       "AG_30_50    0.221198  17.520737  101.910138  \n",
       "AG_50_70    0.161392  15.724684  132.003165  \n",
       "AG_70_UP    0.102273  18.750000  139.250000  "
      ]
     },
     "execution_count": 12,
     "metadata": {},
     "output_type": "execute_result"
    }
   ],
   "source": [
    "# the mean/average of the data accros the classes for the 'AGE_groups'\n",
    "\n",
    "data.groupby('AGE_groups').mean()"
   ]
  },
  {
   "cell_type": "markdown",
   "metadata": {},
   "source": [
    "# Visualisation of the data:"
   ]
  },
  {
   "cell_type": "code",
   "execution_count": 13,
   "metadata": {},
   "outputs": [
    {
     "data": {
      "image/png": "[encoded data removed]",
      "text/plain": [
       "<Figure size 432x288 with 1 Axes>"
      ]
     },
     "metadata": {},
     "output_type": "display_data"
    }
   ],
   "source": [
    "pd.crosstab(data.AGE_groups,data.goodbad).plot(kind='bar')\n",
    "plt.title('goodbad frequency for Age_groups')\n",
    "plt.xlabel('AGE_groups')\n",
    "plt.ylabel('Frequency of AGE_groups')\n",
    "plt.show()"
   ]
  },
  {
   "cell_type": "markdown",
   "metadata": {},
   "source": [
    "# Modeling"
   ]
  },
  {
   "cell_type": "code",
   "execution_count": 14,
   "metadata": {},
   "outputs": [
    {
     "name": "stdout",
     "output_type": "stream",
     "text": [
      "Print The mask of selected features:  [ True  True  True  True  True False False False False False]\n",
      "\n",
      "Print The feature ranking, such that ranking_[i] corresponds to the ranking position of the i-th feature. Selected (i.e., estimated best) features are assigned rank 1. [1 1 1 1 1 6 4 3 2 5]\n"
     ]
    }
   ],
   "source": [
    "# for modeling will use Feature ranking with recursive feature elimination. \n",
    "# http://scikit-learn.org/stable/modules/generated/sklearn.feature_selection.RFE.html\n",
    "\n",
    "# works as follow: Construct repeatedly a model and takes features each by one and test with the remaining and set aside till all the features \n",
    "# are used and selects the best performing model by using the the minimum for the best performing model.\n",
    "\n",
    "# Example here:\n",
    "\n",
    "from sklearn.datasets import make_friedman1\n",
    "from sklearn.feature_selection import RFE\n",
    "from sklearn.svm import SVR\n",
    "X, y = make_friedman1(n_samples=50, n_features=10, random_state=0)\n",
    "estimator = SVR(kernel=\"linear\")\n",
    "selector = RFE(estimator, 5, step=1)\n",
    "selector = selector.fit(X, y)\n",
    "print(\"Print The mask of selected features: \", selector.support_)\n",
    "print()\n",
    "\n",
    "print(\"Print The feature ranking, such that ranking_[i] corresponds to the ranking position of the i-th feature. Selected (i.e., estimated best) features are assigned rank 1.\", selector.ranking_)"
   ]
  },
  {
   "cell_type": "code",
   "execution_count": 15,
   "metadata": {},
   "outputs": [
    {
     "name": "stdout",
     "output_type": "stream",
     "text": [
      "Matrix Shape of X is: (1000, 7)           RBAL  TRADES  AGE  DELQID  CRELIM  BRNEW  BRAGE\n",
      "MATCHKEY                                                 \n",
      "16345246  1492       4   39       1     750      5     20\n",
      "13728016     0       3   71       0    3250     19     19\n",
      "14716776   854       9   30       4     500      0     46\n",
      "14568809   408      13   28       1    3000      2     33\n",
      "13513749  4965      41   51       0     500      3     68\n",
      "Target variable shape \"y\" is: (1000,) MATCHKEY\n",
      "16345246    0\n",
      "13728016    0\n",
      "14716776    1\n",
      "14568809    0\n",
      "13513749    0\n",
      "Name: goodbad, dtype: int64\n"
     ]
    }
   ],
   "source": [
    "# data split in X and Y\n",
    "\n",
    "# for drop the index: df.reset_index(drop = True, inplace = True)\n",
    "\n",
    "# df = data.reset_index(drop = True, inplace = True)\n",
    "#print(df.head())\n",
    "\n",
    "X = data.drop(['goodbad','AGE_groups'], axis=1)\n",
    "print('Matrix Shape of X is:', X.shape, X.head())\n",
    "\n",
    "y = data['goodbad']\n",
    "print('Target variable shape \"y\" is:', y.shape, y.head())\n",
    "\n",
    "\n"
   ]
  },
  {
   "cell_type": "code",
   "execution_count": 16,
   "metadata": {},
   "outputs": [
    {
     "data": {
      "text/plain": [
       "array(['RBAL', 'TRADES', 'AGE', 'DELQID', 'CRELIM', 'BRNEW', 'BRAGE'], dtype=object)"
      ]
     },
     "execution_count": 16,
     "metadata": {},
     "output_type": "execute_result"
    }
   ],
   "source": [
    "# X[\"AGE_groups\"] = X[\"AGE_groups\"].astype('category')\n",
    "\n",
    "#check the column names:\n",
    "\n",
    "X.columns.values"
   ]
  },
  {
   "cell_type": "code",
   "execution_count": 17,
   "metadata": {},
   "outputs": [
    {
     "name": "stdout",
     "output_type": "stream",
     "text": [
      "Print The mask of selected features:  [ True  True  True  True  True  True  True]\n",
      "\n",
      "Print The feature ranking: [1 1 1 1 1 1 1]\n"
     ]
    }
   ],
   "source": [
    "from sklearn.feature_selection import RFE\n",
    "from sklearn.linear_model import LogisticRegression\n",
    "\n",
    "# for all 7 variables\n",
    "\n",
    "logreg = LogisticRegression()\n",
    "\n",
    "selector = RFE(logreg, 7, step=1) #7 is n_features_to_select, default is none and is is none than is used half of the features.\n",
    "selector = selector.fit(X, y)\n",
    "\n",
    "print(\"Print The mask of selected features: \", selector.support_)\n",
    "print()\n",
    "\n",
    "print(\"Print The feature ranking:\", selector.ranking_)\n"
   ]
  },
  {
   "cell_type": "code",
   "execution_count": 18,
   "metadata": {},
   "outputs": [
    {
     "name": "stdout",
     "output_type": "stream",
     "text": [
      "Print The mask of selected features:  [False  True  True  True False  True  True]\n",
      "\n",
      "Print The feature ranking: [3 1 1 1 2 1 1]\n"
     ]
    }
   ],
   "source": [
    "# if we want to have 5 variables selected finally than we have the following: \n",
    "\n",
    "selector = RFE(logreg, 5, step=1) #5 is n_features_to_select, default is none and is is none than is used half of the features.\n",
    "selector = selector.fit(X, y)\n",
    "\n",
    "print(\"Print The mask of selected features: \", selector.support_)\n",
    "print()\n",
    "\n",
    "print(\"Print The feature ranking:\", selector.ranking_)"
   ]
  },
  {
   "cell_type": "markdown",
   "metadata": {},
   "source": [
    "# Implementation of the logistic model  using statsmodel package:\n",
    "\n",
    "\n",
    "`statsmodels` is a Python module that provides classes and functions for the estimation of many different statistical models, as well as for conducting statistical tests, and statistical data exploration. An extensive list of result statistics are available for each estimator. \n",
    "The results are tested against existing statistical packages to ensure that they are correct. \n",
    "The package is released under the open source Modified BSD (3-clause) license. The online documentation is hosted at statsmodels.org.\n",
    "\n",
    "\n",
    "https://www.statsmodels.org/stable/index.html"
   ]
  },
  {
   "cell_type": "code",
   "execution_count": 24,
   "metadata": {},
   "outputs": [
    {
     "name": "stdout",
     "output_type": "stream",
     "text": [
      "Optimization terminated successfully.\n",
      "         Current function value: 0.045915\n",
      "         Iterations 11\n",
      "                           Logit Regression Results                           \n",
      "==============================================================================\n",
      "Dep. Variable:                goodbad   No. Observations:                 1000\n",
      "Model:                          Logit   Df Residuals:                      993\n",
      "Method:                           MLE   Df Model:                            6\n",
      "Date:                Sat, 11 Aug 2018   Pseudo R-squ.:                  0.9047\n",
      "Time:                        02:25:55   Log-Likelihood:                -45.915\n",
      "converged:                       True   LL-Null:                       -481.84\n",
      "                                        LLR p-value:                4.553e-185\n",
      "==============================================================================\n",
      "                 coef    std err          z      P>|z|      [0.025      0.975]\n",
      "------------------------------------------------------------------------------\n",
      "RBAL           0.0002    4.3e-05      4.155      0.000    9.45e-05       0.000\n",
      "TRADES        -0.1495      0.039     -3.813      0.000      -0.226      -0.073\n",
      "AGE           -0.1481      0.028     -5.326      0.000      -0.203      -0.094\n",
      "DELQID         3.5636      0.503      7.090      0.000       2.579       4.549\n",
      "CRELIM        -0.0006      0.000     -1.976      0.048      -0.001    -4.5e-06\n",
      "BRNEW         -0.0351      0.020     -1.712      0.087      -0.075       0.005\n",
      "BRAGE          0.0014      0.006      0.241      0.809      -0.010       0.012\n",
      "==============================================================================\n",
      "\n",
      "Possibly complete quasi-separation: A fraction 0.55 of observations can be\n",
      "perfectly predicted. This might indicate that there is complete\n",
      "quasi-separation. In this case some parameters will not be identified.\n"
     ]
    }
   ],
   "source": [
    "import statsmodels.api as sm\n",
    "\n",
    "logit_model=sm.Logit(y,X) # create the model\n",
    "\n",
    "result=logit_model.fit() # fit the model\n",
    "\n",
    "print(result.summary()) "
   ]
  },
  {
   "cell_type": "code",
   "execution_count": 25,
   "metadata": {},
   "outputs": [],
   "source": [
    "# Interpretation/Summary : p-value for most of our selected variables are significant except BRAGE and BRNEW."
   ]
  },
  {
   "cell_type": "markdown",
   "metadata": {},
   "source": [
    "# Now example using sklearn library"
   ]
  },
  {
   "cell_type": "markdown",
   "metadata": {},
   "source": [
    "# write the data to the disk macOS location github\n",
    "###### data.to_csv('/Users/sb0709/Documents/GitHub/bootcamp_KSU/Data/data_reg.csv', sep = ',')\n",
    "\n",
    "# pushing all datasets to github for reading csv for this tutorials\n",
    "##### data.to_csv('/home/sb0709/github_repos/bootcamp_KSU/Data/data_reg.csv', sep = ',')"
   ]
  },
  {
   "cell_type": "code",
   "execution_count": 26,
   "metadata": {},
   "outputs": [
    {
     "name": "stdout",
     "output_type": "stream",
     "text": [
      "Matrix Shape of X is: (1000, 7)           RBAL  TRADES  AGE  DELQID  CRELIM  BRNEW  BRAGE\n",
      "MATCHKEY                                                 \n",
      "16345246  1492       4   39       1     750      5     20\n",
      "13728016     0       3   71       0    3250     19     19\n",
      "14716776   854       9   30       4     500      0     46\n",
      "14568809   408      13   28       1    3000      2     33\n",
      "13513749  4965      41   51       0     500      3     68\n",
      "Target variable shape \"y\" is: (1000,) MATCHKEY\n",
      "16345246    0\n",
      "13728016    0\n",
      "14716776    1\n",
      "14568809    0\n",
      "13513749    0\n",
      "Name: goodbad, dtype: int64\n",
      "LogisticRegression(C=1.0, class_weight=None, dual=False, fit_intercept=True,\n",
      "          intercept_scaling=1, max_iter=100, multi_class='ovr', n_jobs=1,\n",
      "          penalty='l2', random_state=None, solver='liblinear', tol=0.0001,\n",
      "          verbose=0, warm_start=False)\n",
      "KNeighborsClassifier(algorithm='auto', leaf_size=30, metric='minkowski',\n",
      "           metric_params=None, n_jobs=1, n_neighbors=5, p=2,\n",
      "           weights='uniform')\n"
     ]
    }
   ],
   "source": [
    "# modified original http://scikit-learn.org/stable/auto_examples/linear_model/plot_iris_logistic.html#sphx-glr-auto-examples-linear-model-plot-iris-logistic-py\n",
    "\n",
    "import numpy as np\n",
    "from sklearn.linear_model import LogisticRegression\n",
    "from sklearn.neighbors import KNeighborsClassifier\n",
    "from sklearn import metrics\n",
    "\n",
    "# import some data to play with\n",
    "X = data.drop(['goodbad','AGE_groups'], axis=1)\n",
    "print('Matrix Shape of X is:', X.shape, X.head())\n",
    "\n",
    "y = data['goodbad'] # target variable\n",
    "print('Target variable shape \"y\" is:', y.shape, y.head())\n",
    "\n",
    "#split/create the dataset in train and test 70/30\n",
    "X_train, X_test, y_train, y_test = train_test_split(X, y, test_size=0.3, random_state=0)\n",
    "\n",
    "# we create an instance of Neighbours Classifier and fit the data.\n",
    "logreg = LogisticRegression() #logisticRegression\n",
    "print(logreg.fit(X_train, y_train))\n",
    "\n",
    "# Clustering\n",
    "\n",
    "knn = KNeighborsClassifier() #clustering\n",
    "print(knn.fit(X_train, y_train))"
   ]
  },
  {
   "cell_type": "code",
   "execution_count": 27,
   "metadata": {},
   "outputs": [
    {
     "name": "stdout",
     "output_type": "stream",
     "text": [
      "LogisticRegression score: 0.973333\n"
     ]
    }
   ],
   "source": [
    "print('LogisticRegression score: %f'\n",
    "      % logreg.fit(X_train, y_train).score(X_test, y_test))"
   ]
  },
  {
   "cell_type": "code",
   "execution_count": 28,
   "metadata": {},
   "outputs": [
    {
     "name": "stdout",
     "output_type": "stream",
     "text": [
      "Accuracy of Logistic Regression classifier on test dataset: 0.973333333333\n"
     ]
    }
   ],
   "source": [
    "y_pred = logreg.predict(X_test)\n",
    "print('Accuracy of Logistic Regression classifier on test dataset:', logreg.score(X_test, y_test))"
   ]
  },
  {
   "cell_type": "code",
   "execution_count": 29,
   "metadata": {},
   "outputs": [
    {
     "name": "stdout",
     "output_type": "stream",
     "text": [
      "KNN score: 0.776667\n"
     ]
    }
   ],
   "source": [
    "print('KNN score: %f' % knn.fit(X_train, y_train).score(X_test, y_test))"
   ]
  },
  {
   "cell_type": "markdown",
   "metadata": {},
   "source": [
    "# Confusion matrix"
   ]
  },
  {
   "cell_type": "code",
   "execution_count": 30,
   "metadata": {},
   "outputs": [
    {
     "name": "stdout",
     "output_type": "stream",
     "text": [
      "[[236   2]\n",
      " [  6  56]]\n"
     ]
    }
   ],
   "source": [
    "from sklearn.metrics import confusion_matrix\n",
    "confusion_matrix = confusion_matrix(y_test, y_pred)\n",
    "print(confusion_matrix)"
   ]
  },
  {
   "cell_type": "markdown",
   "metadata": {},
   "source": [
    "### Interpretation: correct predictions are: 236 + 2, incorect predictions are:  7 + 55"
   ]
  },
  {
   "cell_type": "markdown",
   "metadata": {},
   "source": [
    "# Build a text report showing the main classification metrics\n",
    "\n",
    "\n",
    "\n",
    "``` python\n",
    "klearn.metrics.classification_report(y_true, y_pred, labels=None, target_names=None, sample_weight=None, digits=2)\n",
    "```"
   ]
  },
  {
   "cell_type": "code",
   "execution_count": 31,
   "metadata": {},
   "outputs": [
    {
     "name": "stdout",
     "output_type": "stream",
     "text": [
      "             precision    recall  f1-score   support\n",
      "\n",
      "          0       0.98      0.99      0.98       238\n",
      "          1       0.97      0.90      0.93        62\n",
      "\n",
      "avg / total       0.97      0.97      0.97       300\n",
      "\n"
     ]
    }
   ],
   "source": [
    "# source: http://scikit-learn.org/stable/modules/generated/sklearn.metrics.classification_report.html\n",
    "\n",
    "from sklearn.metrics import classification_report\n",
    "print(classification_report(y_test, y_pred))"
   ]
  },
  {
   "cell_type": "markdown",
   "metadata": {},
   "source": [
    "# Q&A"
   ]
  },
  {
   "cell_type": "code",
   "execution_count": null,
   "metadata": {},
   "outputs": [],
   "source": []
  }
 ],
 "metadata": {
  "kernelspec": {
   "display_name": "Python36(bootcampDS)",
   "language": "python",
   "name": "bootcamp_ds"
  },
  "language_info": {
   "codemirror_mode": {
    "name": "ipython",
    "version": 3
   },
   "file_extension": ".py",
   "mimetype": "text/x-python",
   "name": "python",
   "nbconvert_exporter": "python",
   "pygments_lexer": "ipython3",
   "version": "3.6.6"
  }
 },
 "nbformat": 4,
 "nbformat_minor": 2
}
