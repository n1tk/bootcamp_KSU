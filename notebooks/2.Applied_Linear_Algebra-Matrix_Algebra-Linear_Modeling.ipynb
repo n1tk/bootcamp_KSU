{
 "cells": [
  {
   "cell_type": "markdown",
   "metadata": {},
   "source": [
    "# Providing info for numpy and show why is required.\n"
   ]
  },
  {
   "cell_type": "code",
   "execution_count": 2,
   "metadata": {},
   "outputs": [],
   "source": [
    "import pandas as pd\n",
    "import numpy as np"
   ]
  },
  {
   "cell_type": "code",
   "execution_count": 3,
   "metadata": {},
   "outputs": [],
   "source": [
    "# read in the csv file aka dataframe creation\n",
    "\n",
    "url_data = \"https://raw.githubusercontent.com/sb0709/bootcamp_KSU/master/Data/data.csv\"\n",
    "data = pd.read_csv(url_data,sep=',')"
   ]
  },
  {
   "cell_type": "markdown",
   "metadata": {},
   "source": [
    "Sources used to build the tutorial:\n",
    "\n",
    "* A Primer on Scientific Programming with Python by Hans Petter Langtangen.\n",
    "* Deep Learning by Ian Goodfellow, Yoshua Bengio, and Aaron Courville.\n",
    "* https://docs.scipy.org/doc/numpy/reference/routines.linalg.html\n",
    "* https://machinelearningmastery.com/introduction-to-tensors-for-machine-learning/\n",
    "* https://docs.scipy.org/doc/numpy-1.10.0/reference/arrays.ndarray.html\n",
    "\n",
    "\n",
    "\n",
    "##### This part does assume that the audience have previous experience with basic Linear Algebra, including Vectors, Matrices, Tensors."
   ]
  },
  {
   "cell_type": "markdown",
   "metadata": {},
   "source": [
    "### Scalars\n",
    "##### The default data type in NumPy is float_\n",
    "\n",
    "Source doc: https://docs.scipy.org/doc/numpy-1.13.0/reference/arrays.scalars.html "
   ]
  },
  {
   "cell_type": "code",
   "execution_count": 4,
   "metadata": {},
   "outputs": [
    {
     "data": {
      "text/plain": [
       "(int,\n",
       " float,\n",
       " complex,\n",
       " int,\n",
       " bool,\n",
       " bytes,\n",
       " str,\n",
       " memoryview,\n",
       " numpy.bool_,\n",
       " numpy.int8,\n",
       " numpy.uint8,\n",
       " numpy.int16,\n",
       " numpy.uint16,\n",
       " numpy.int32,\n",
       " numpy.uint32,\n",
       " numpy.int64,\n",
       " numpy.uint64,\n",
       " numpy.int64,\n",
       " numpy.uint64,\n",
       " numpy.float16,\n",
       " numpy.float32,\n",
       " numpy.float64,\n",
       " numpy.float128,\n",
       " numpy.complex64,\n",
       " numpy.complex128,\n",
       " numpy.complex256,\n",
       " numpy.object_,\n",
       " numpy.bytes_,\n",
       " numpy.str_,\n",
       " numpy.void,\n",
       " numpy.datetime64,\n",
       " numpy.timedelta64)"
      ]
     },
     "execution_count": 4,
     "metadata": {},
     "output_type": "execute_result"
    }
   ],
   "source": [
    "#listing the \n",
    "\n",
    "np.ScalarType"
   ]
  },
  {
   "cell_type": "code",
   "execution_count": 5,
   "metadata": {},
   "outputs": [],
   "source": [
    "a = np.array(3.1)"
   ]
  },
  {
   "cell_type": "code",
   "execution_count": 12,
   "metadata": {},
   "outputs": [
    {
     "data": {
      "text/plain": [
       "array(3.1)"
      ]
     },
     "execution_count": 12,
     "metadata": {},
     "output_type": "execute_result"
    }
   ],
   "source": [
    "a"
   ]
  },
  {
   "cell_type": "markdown",
   "metadata": {},
   "source": [
    "# Defining Matrics and Vectors\n",
    "\n",
    "##### A matrix  is a rectangular array of numbers, symbols, or expressions, arranged in rows and columns:\n",
    "![alt text](https://upload.wikimedia.org/wikipedia/commons/thumb/b/bb/Matrix.svg/494px-Matrix.svg.png?raw=true)\n",
    "\n",
    "https://www.wikiwand.com/en/Matrix_(mathematics)"
   ]
  },
  {
   "cell_type": "code",
   "execution_count": 23,
   "metadata": {},
   "outputs": [
    {
     "name": "stdout",
     "output_type": "stream",
     "text": [
      "[[1 2 3]\n",
      " [4 5 6]\n",
      " [7 8 9]]\n",
      "\n",
      "Shape of the matrix is: (3, 3)\n"
     ]
    }
   ],
   "source": [
    "# Define matrix \"A\"\n",
    "\n",
    "A = np.array([[1, 2, 3],[4, 5, 6], [7, 8, 9]])\n",
    "print(A)\n",
    "print()\n",
    "print(\"Shape of the matrix is:\", A.shape)"
   ]
  },
  {
   "cell_type": "code",
   "execution_count": null,
   "metadata": {},
   "outputs": [],
   "source": [
    "### Addition, scalar multiplication and transposition\n",
    "\n"
   ]
  },
  {
   "cell_type": "markdown",
   "metadata": {},
   "source": [
    "# Vectors\n",
    "\n",
    "##### A column vector or column matrix is an m × 1 matrix, that is, a matrix consisting of a single column of m elements,\n",
    "![alt text](https://wikimedia.org/api/rest_v1/media/math/render/svg/32bf4d54c8e316178fca0b9f4a79dd0a0a34f34f?raw=true)\n",
    "##### Similarly, a row vector or row matrix is a 1 × m matrix, that is, a matrix consisting of a single row of m elements,\n",
    "![alt text](https://wikimedia.org/api/rest_v1/media/math/render/svg/507111acf945f5fe57c45ecc563ec02a4aff4a1b?raw=true)\n",
    "\n",
    "https://www.wikiwand.com/en/Row_and_column_vectors"
   ]
  },
  {
   "cell_type": "code",
   "execution_count": 24,
   "metadata": {},
   "outputs": [
    {
     "name": "stdout",
     "output_type": "stream",
     "text": [
      "[2 3 1]\n",
      "\n",
      "Shape of the vector is: (3,)\n"
     ]
    }
   ],
   "source": [
    "# Define vector 'x'\n",
    "\n",
    "x = np.array([2,3,1,])\n",
    "print(x)\n",
    "print()\n",
    "print(\"Shape of the vector is:\", x.shape)"
   ]
  },
  {
   "cell_type": "code",
   "execution_count": 28,
   "metadata": {},
   "outputs": [
    {
     "name": "stdout",
     "output_type": "stream",
     "text": [
      "[4 6 2]\n",
      "[4 9 1]\n",
      "[4 9 1]\n"
     ]
    }
   ],
   "source": [
    "# Operations with vectors:\n",
    "\n",
    "print(x + x)\n",
    "print(x * x)\n",
    "print(x ** 2)"
   ]
  },
  {
   "cell_type": "code",
   "execution_count": 20,
   "metadata": {},
   "outputs": [
    {
     "data": {
      "text/plain": [
       "array([[1],\n",
       "       [2],\n",
       "       [3]])"
      ]
     },
     "execution_count": 20,
     "metadata": {},
     "output_type": "execute_result"
    }
   ],
   "source": [
    "# https://docs.scipy.org/doc/numpy-1.10.0/reference/arrays.ndarray.html"
   ]
  },
  {
   "cell_type": "markdown",
   "metadata": {},
   "source": [
    "# Defining Tensors and perfom operations\n",
    "### A tensor is a generalization of vectors and matrices and is easily understood as a multidimensional array."
   ]
  },
  {
   "cell_type": "code",
   "execution_count": null,
   "metadata": {},
   "outputs": [],
   "source": []
  }
 ],
 "metadata": {
  "kernelspec": {
   "display_name": "Python36 (bootcamp_conda_ksu)",
   "language": "python",
   "name": "bootcamp_conda_ksu"
  },
  "language_info": {
   "codemirror_mode": {
    "name": "ipython",
    "version": 3
   },
   "file_extension": ".py",
   "mimetype": "text/x-python",
   "name": "python",
   "nbconvert_exporter": "python",
   "pygments_lexer": "ipython3",
   "version": "3.6.6"
  }
 },
 "nbformat": 4,
 "nbformat_minor": 2
}
