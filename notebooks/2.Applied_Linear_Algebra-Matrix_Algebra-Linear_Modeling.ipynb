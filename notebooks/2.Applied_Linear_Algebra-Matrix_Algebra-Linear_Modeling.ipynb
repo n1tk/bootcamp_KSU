{
 "cells": [
  {
   "cell_type": "markdown",
   "metadata": {},
   "source": [
    "# Providing info for numpy and show why is required.\n"
   ]
  },
  {
   "cell_type": "code",
   "execution_count": 2,
   "metadata": {},
   "outputs": [],
   "source": [
    "import pandas as pd\n",
    "import numpy as np"
   ]
  },
  {
   "cell_type": "code",
   "execution_count": 3,
   "metadata": {},
   "outputs": [],
   "source": [
    "# read in the csv file aka dataframe creation\n",
    "\n",
    "url_data = \"https://raw.githubusercontent.com/sb0709/bootcamp_KSU/master/Data/data.csv\"\n",
    "data = pd.read_csv(url_data,sep=',')"
   ]
  },
  {
   "cell_type": "markdown",
   "metadata": {},
   "source": [
    "Sources used to build the tutorial:\n",
    "\n",
    "* A Primer on Scientific Programming with Python by Hans Petter Langtangen.\n",
    "* Deep Learning by Ian Goodfellow, Yoshua Bengio, and Aaron Courville.\n",
    "* https://docs.scipy.org/doc/numpy/reference/routines.linalg.html\n",
    "* https://machinelearningmastery.com/introduction-to-tensors-for-machine-learning/\n",
    "* https://docs.scipy.org/doc/numpy-1.10.0/reference/arrays.ndarray.html\n",
    "\n",
    "\n",
    "\n",
    "##### This part does assume that the audience have previous experience with basic Linear Algebra, including Vectors, Matrices, Tensors."
   ]
  },
  {
   "cell_type": "markdown",
   "metadata": {},
   "source": [
    "### Scalars\n",
    "##### The default data type in NumPy is float_\n",
    "\n",
    "Source doc: https://docs.scipy.org/doc/numpy-1.13.0/reference/arrays.scalars.html "
   ]
  },
  {
   "cell_type": "code",
   "execution_count": 4,
   "metadata": {},
   "outputs": [
    {
     "data": {
      "text/plain": [
       "(int,\n",
       " float,\n",
       " complex,\n",
       " int,\n",
       " bool,\n",
       " bytes,\n",
       " str,\n",
       " memoryview,\n",
       " numpy.bool_,\n",
       " numpy.int8,\n",
       " numpy.uint8,\n",
       " numpy.int16,\n",
       " numpy.uint16,\n",
       " numpy.int32,\n",
       " numpy.uint32,\n",
       " numpy.int64,\n",
       " numpy.uint64,\n",
       " numpy.int64,\n",
       " numpy.uint64,\n",
       " numpy.float16,\n",
       " numpy.float32,\n",
       " numpy.float64,\n",
       " numpy.float128,\n",
       " numpy.complex64,\n",
       " numpy.complex128,\n",
       " numpy.complex256,\n",
       " numpy.object_,\n",
       " numpy.bytes_,\n",
       " numpy.str_,\n",
       " numpy.void,\n",
       " numpy.datetime64,\n",
       " numpy.timedelta64)"
      ]
     },
     "execution_count": 4,
     "metadata": {},
     "output_type": "execute_result"
    }
   ],
   "source": [
    "#listing the \n",
    "\n",
    "np.ScalarType"
   ]
  },
  {
   "cell_type": "code",
   "execution_count": 5,
   "metadata": {},
   "outputs": [],
   "source": [
    "a = np.array(3.1)"
   ]
  },
  {
   "cell_type": "code",
   "execution_count": 12,
   "metadata": {},
   "outputs": [
    {
     "data": {
      "text/plain": [
       "array(3.1)"
      ]
     },
     "execution_count": 12,
     "metadata": {},
     "output_type": "execute_result"
    }
   ],
   "source": [
    "a"
   ]
  },
  {
   "cell_type": "markdown",
   "metadata": {},
   "source": [
    "# Defining Matrics and Vectors\n",
    "\n",
    "##### A matrix  is a rectangular array of numbers, symbols, or expressions, arranged in rows and columns:\n",
    "![alt text](https://upload.wikimedia.org/wikipedia/commons/thumb/b/bb/Matrix.svg/494px-Matrix.svg.png?raw=true)\n",
    "\n",
    "https://www.wikiwand.com/en/Matrix_(mathematics)"
   ]
  },
  {
   "cell_type": "code",
   "execution_count": 23,
   "metadata": {},
   "outputs": [
    {
     "name": "stdout",
     "output_type": "stream",
     "text": [
      "[[1 2 3]\n",
      " [4 5 6]\n",
      " [7 8 9]]\n",
      "\n",
      "Shape of the matrix is: (3, 3)\n"
     ]
    }
   ],
   "source": [
    "# Define matrix \"A\"\n",
    "\n",
    "A = np.array([[1, 2, 3],[4, 5, 6], [7, 8, 9]])\n",
    "print(A)\n",
    "print()\n",
    "print(\"Shape of the matrix is:\", A.shape)"
   ]
  },
  {
   "cell_type": "markdown",
   "metadata": {},
   "source": [
    "### Addition, scalar multiplication and transposition\n",
    "\n",
    "![alt text](https://github.com/sb0709/bootcamp_KSU/blob/master/pictures/matrix_table.png?raw=true)\n",
    "\n",
    "\n",
    "https://www.wikiwand.com/en/Matrix_(mathematics)"
   ]
  },
  {
   "cell_type": "code",
   "execution_count": 33,
   "metadata": {},
   "outputs": [
    {
     "name": "stdout",
     "output_type": "stream",
     "text": [
      "[[ 1  4  9]\n",
      " [16 25 36]\n",
      " [49 64 81]]\n"
     ]
    }
   ],
   "source": [
    "B = A**2\n",
    "print(B)"
   ]
  },
  {
   "cell_type": "code",
   "execution_count": 34,
   "metadata": {},
   "outputs": [
    {
     "name": "stdout",
     "output_type": "stream",
     "text": [
      "[[ 2  6 12]\n",
      " [20 30 42]\n",
      " [56 72 90]]\n"
     ]
    }
   ],
   "source": [
    "C = A + B\n",
    "print(C)"
   ]
  },
  {
   "cell_type": "code",
   "execution_count": 39,
   "metadata": {},
   "outputs": [
    {
     "data": {
      "text/plain": [
       "array([[  4,  12,  24],\n",
       "       [ 40,  60,  84],\n",
       "       [112, 144, 180]])"
      ]
     },
     "execution_count": 39,
     "metadata": {},
     "output_type": "execute_result"
    }
   ],
   "source": [
    "# scalar multiply matrix \n",
    "\n",
    "D = 2 * C\n",
    "D"
   ]
  },
  {
   "cell_type": "code",
   "execution_count": 36,
   "metadata": {},
   "outputs": [
    {
     "name": "stdout",
     "output_type": "stream",
     "text": [
      "[[1 4 7]\n",
      " [2 5 8]\n",
      " [3 6 9]]\n"
     ]
    }
   ],
   "source": [
    "# Transpose \n",
    "print(A.T)"
   ]
  },
  {
   "cell_type": "code",
   "execution_count": 38,
   "metadata": {},
   "outputs": [
    {
     "name": "stdout",
     "output_type": "stream",
     "text": [
      "[[ 0.75       -0.75        0.25      ]\n",
      " [-1.27777778  1.13888889 -0.36111111]\n",
      " [ 0.55555556 -0.44444444  0.13888889]]\n"
     ]
    }
   ],
   "source": [
    "# inverse\n",
    "\n",
    "print(np.linalg.inv(D))\n",
    "\n",
    "# here we have also the Generalized inverse option to can calculate."
   ]
  },
  {
   "cell_type": "code",
   "execution_count": 41,
   "metadata": {},
   "outputs": [
    {
     "name": "stdout",
     "output_type": "stream",
     "text": [
      "6.66133814775094e-16\n"
     ]
    }
   ],
   "source": [
    "# Determinant\n",
    "\n",
    "print(np.linalg.det(A))"
   ]
  },
  {
   "cell_type": "code",
   "execution_count": 47,
   "metadata": {},
   "outputs": [
    {
     "name": "stdout",
     "output_type": "stream",
     "text": [
      "[ 1.61168440e+01 -1.11684397e+00 -1.30367773e-15]\n",
      "\n",
      "[[-0.23197069 -0.78583024  0.40824829]\n",
      " [-0.52532209 -0.08675134 -0.81649658]\n",
      " [-0.8186735   0.61232756  0.40824829]]\n"
     ]
    }
   ],
   "source": [
    "# Eigenvalues and Eigenvectors\n",
    "\n",
    "eigvals, eigvecs = np.linalg.eig(A)\n",
    "\n",
    "print(eigvals)\n",
    "print()\n",
    "print(eigvecs)"
   ]
  },
  {
   "cell_type": "markdown",
   "metadata": {},
   "source": [
    "# Vectors\n",
    "\n",
    "##### A column vector or column matrix is an m × 1 matrix, that is, a matrix consisting of a single column of m elements,\n",
    "![alt text](https://wikimedia.org/api/rest_v1/media/math/render/svg/32bf4d54c8e316178fca0b9f4a79dd0a0a34f34f?raw=true)\n",
    "##### Similarly, a row vector or row matrix is a 1 × m matrix, that is, a matrix consisting of a single row of m elements,\n",
    "![alt text](https://wikimedia.org/api/rest_v1/media/math/render/svg/507111acf945f5fe57c45ecc563ec02a4aff4a1b?raw=true)\n",
    "\n",
    "https://www.wikiwand.com/en/Row_and_column_vectors"
   ]
  },
  {
   "cell_type": "code",
   "execution_count": 56,
   "metadata": {},
   "outputs": [
    {
     "name": "stdout",
     "output_type": "stream",
     "text": [
      "[[2]\n",
      " [3]\n",
      " [1]]\n",
      "\n",
      "Shape of the vector is: (3, 1)\n"
     ]
    }
   ],
   "source": [
    "# Define vector 'x'\n",
    "\n",
    "x = np.array([[2],[3],[1]])\n",
    "print(x)\n",
    "print()\n",
    "print(\"Shape of the vector is:\", x.shape)"
   ]
  },
  {
   "cell_type": "code",
   "execution_count": 58,
   "metadata": {},
   "outputs": [
    {
     "name": "stdout",
     "output_type": "stream",
     "text": [
      "[[4]\n",
      " [6]\n",
      " [2]]\n",
      "\n",
      "[[4]\n",
      " [9]\n",
      " [1]]\n",
      "\n",
      "[[4]\n",
      " [9]\n",
      " [1]]\n"
     ]
    }
   ],
   "source": [
    "# Operations with vectors:\n",
    "\n",
    "print(x + x)\n",
    "print()\n",
    "print(x * x)\n",
    "print()\n",
    "print(x ** 2)"
   ]
  },
  {
   "cell_type": "code",
   "execution_count": 59,
   "metadata": {},
   "outputs": [],
   "source": [
    "# https://docs.scipy.org/doc/numpy-1.10.0/reference/arrays.ndarray.html"
   ]
  },
  {
   "cell_type": "code",
   "execution_count": 66,
   "metadata": {},
   "outputs": [
    {
     "name": "stdout",
     "output_type": "stream",
     "text": [
      "[[1 2 3]\n",
      " [4 5 6]\n",
      " [7 8 9]]\n"
     ]
    },
    {
     "ename": "ValueError",
     "evalue": "shapes (3,1) and (3,3) not aligned: 1 (dim 1) != 3 (dim 0)",
     "output_type": "error",
     "traceback": [
      "\u001b[0;31m---------------------------------------------------------------------------\u001b[0m",
      "\u001b[0;31mValueError\u001b[0m                                Traceback (most recent call last)",
      "\u001b[0;32m<ipython-input-66-8e5d29a2fa0b>\u001b[0m in \u001b[0;36m<module>\u001b[0;34m()\u001b[0m\n\u001b[1;32m      1\u001b[0m \u001b[0;31m# Vector matrix multiplication:\u001b[0m\u001b[0;34m\u001b[0m\u001b[0;34m\u001b[0m\u001b[0m\n\u001b[1;32m      2\u001b[0m \u001b[0mprint\u001b[0m\u001b[0;34m(\u001b[0m\u001b[0mA\u001b[0m\u001b[0;34m)\u001b[0m\u001b[0;34m\u001b[0m\u001b[0m\n\u001b[0;32m----> 3\u001b[0;31m \u001b[0mprint\u001b[0m\u001b[0;34m(\u001b[0m\u001b[0mx\u001b[0m\u001b[0;34m.\u001b[0m\u001b[0mdot\u001b[0m\u001b[0;34m(\u001b[0m\u001b[0mA\u001b[0m\u001b[0;34m)\u001b[0m\u001b[0;34m)\u001b[0m\u001b[0;34m\u001b[0m\u001b[0m\n\u001b[0m",
      "\u001b[0;31mValueError\u001b[0m: shapes (3,1) and (3,3) not aligned: 1 (dim 1) != 3 (dim 0)"
     ]
    }
   ],
   "source": [
    "# Vector matrix multiplication:\n",
    "print(A)\n",
    "print(x.dot(A))\n"
   ]
  },
  {
   "cell_type": "code",
   "execution_count": 67,
   "metadata": {},
   "outputs": [
    {
     "name": "stdout",
     "output_type": "stream",
     "text": [
      "[[21 27 33]]\n"
     ]
    }
   ],
   "source": [
    "print(x.T.dot(A))"
   ]
  },
  {
   "cell_type": "code",
   "execution_count": 70,
   "metadata": {},
   "outputs": [
    {
     "name": "stdout",
     "output_type": "stream",
     "text": [
      "[[ 2  4  6]\n",
      " [12 15 18]\n",
      " [ 7  8  9]]\n",
      "\n",
      "[[ 2  4  6]\n",
      " [12 15 18]\n",
      " [ 7  8  9]]\n"
     ]
    }
   ],
   "source": [
    "# Element-wise Multiplication\n",
    "\n",
    "print(np.multiply(A, x))\n",
    "print()\n",
    "print(np.multiply(x, A))"
   ]
  },
  {
   "cell_type": "markdown",
   "metadata": {},
   "source": [
    "# Defining Tensors and perfom operations\n",
    "### A tensor is a generalization of vectors and matrices and is easily understood as a multidimensional array."
   ]
  },
  {
   "cell_type": "code",
   "execution_count": 71,
   "metadata": {},
   "outputs": [],
   "source": [
    "# https://machinelearningmastery.com/introduction-to-tensors-for-machine-learning/"
   ]
  },
  {
   "cell_type": "code",
   "execution_count": null,
   "metadata": {},
   "outputs": [],
   "source": []
  }
 ],
 "metadata": {
  "kernelspec": {
   "display_name": "Python36 (bootcamp_conda_ksu)",
   "language": "python",
   "name": "bootcamp_conda_ksu"
  },
  "language_info": {
   "codemirror_mode": {
    "name": "ipython",
    "version": 3
   },
   "file_extension": ".py",
   "mimetype": "text/x-python",
   "name": "python",
   "nbconvert_exporter": "python",
   "pygments_lexer": "ipython3",
   "version": "3.6.6"
  }
 },
 "nbformat": 4,
 "nbformat_minor": 2
}
