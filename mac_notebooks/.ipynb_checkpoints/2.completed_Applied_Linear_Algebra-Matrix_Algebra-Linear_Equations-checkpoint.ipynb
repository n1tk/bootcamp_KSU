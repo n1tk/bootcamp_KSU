{
 "cells": [
  {
   "cell_type": "markdown",
   "metadata": {},
   "source": [
    "# Numpy is the core for pandas. Pandas is build on top of Numpy in order to provide a higher level of access to the powerfull math operations. \n"
   ]
  },
  {
   "cell_type": "code",
   "execution_count": 1,
   "metadata": {},
   "outputs": [],
   "source": [
    "import pandas as pd\n",
    "import numpy as np"
   ]
  },
  {
   "cell_type": "code",
   "execution_count": 2,
   "metadata": {},
   "outputs": [],
   "source": [
    "# read in the csv file aka dataframe creation\n",
    "\n",
    "url_data = \"https://raw.githubusercontent.com/sb0709/bootcamp_KSU/master/Data/data.csv\"\n",
    "data = pd.read_csv(url_data,sep=',')"
   ]
  },
  {
   "cell_type": "markdown",
   "metadata": {},
   "source": [
    "# convert the pandas dataframe to numpy array . \n",
    "\n",
    "``` python\n",
    "    DataFrame.values\n",
    "    ```\n",
    "   \n",
    "* Return a Numpy representation of the DataFrame.\n",
    "\n",
    "* Only the values in the DataFrame will be returned, the axes labels will be removed.\n",
    "\n",
    "```python\n",
    "Returns:\t\n",
    "        numpy.ndarray\n",
    "        The values of the DataFrame.\n",
    "```\n",
    "\n",
    "\n",
    "\n",
    "\n",
    "\n",
    "http://pandas.pydata.org/pandas-docs/stable/generated/pandas.DataFrame.values.html#pandas.DataFrame.values\n"
   ]
  },
  {
   "cell_type": "code",
   "execution_count": 3,
   "metadata": {},
   "outputs": [
    {
     "data": {
      "text/plain": [
       "Unnamed: 0     int64\n",
       "MATCHKEY       int64\n",
       "RBAL           int64\n",
       "TRADES         int64\n",
       "AGE            int64\n",
       "AGE_groups    object\n",
       "DELQID         int64\n",
       "CRELIM         int64\n",
       "goodbad        int64\n",
       "BRNEW          int64\n",
       "BRAGE          int64\n",
       "dtype: object"
      ]
     },
     "execution_count": 3,
     "metadata": {},
     "output_type": "execute_result"
    }
   ],
   "source": [
    "data.dtypes"
   ]
  },
  {
   "cell_type": "code",
   "execution_count": 4,
   "metadata": {},
   "outputs": [],
   "source": [
    "# get numpy array with buildin function \".values\"\n",
    "\n",
    "np_data = data.values"
   ]
  },
  {
   "cell_type": "code",
   "execution_count": 5,
   "metadata": {},
   "outputs": [
    {
     "data": {
      "text/plain": [
       "numpy.ndarray"
      ]
     },
     "execution_count": 5,
     "metadata": {},
     "output_type": "execute_result"
    }
   ],
   "source": [
    "# Type of the \n",
    "\n",
    "type(np_data)"
   ]
  },
  {
   "cell_type": "code",
   "execution_count": 6,
   "metadata": {},
   "outputs": [
    {
     "data": {
      "text/plain": [
       "array([0, 16345246, 1492, 4, 39, 'AG_30_50', 1, 750, 0, 5, 20],\n",
       "      dtype=object)"
      ]
     },
     "execution_count": 6,
     "metadata": {},
     "output_type": "execute_result"
    }
   ],
   "source": [
    "# slice the matrices, row slice\n",
    "\n",
    "np_data[0,:]"
   ]
  },
  {
   "cell_type": "code",
   "execution_count": 7,
   "metadata": {},
   "outputs": [
    {
     "data": {
      "text/plain": [
       "array([[16345246, 1492, 4, 39],\n",
       "       [13728016, 0, 3, 71],\n",
       "       [14716776, 854, 9, 30],\n",
       "       ...,\n",
       "       [14552548, 24043, 34, 47],\n",
       "       [3267611, 18108, 30, 58],\n",
       "       [3380958, 10793, 29, 67]], dtype=object)"
      ]
     },
     "execution_count": 7,
     "metadata": {},
     "output_type": "execute_result"
    }
   ],
   "source": [
    "# column slice, and this also can be passed to a variables, \n",
    "# numpy anytime is made a change to a numpy array is replacing the original one, for example recreating the A than modify some variable will recreate a NEW A matrix in place. \n",
    "\n",
    "\n",
    "np_data[:,1:5]"
   ]
  },
  {
   "cell_type": "markdown",
   "metadata": {},
   "source": [
    "Sources used to build the tutorial:\n",
    "\n",
    "* A Primer on Scientific Programming with Python by Hans Petter Langtangen.\n",
    "* Deep Learning by Ian Goodfellow, Yoshua Bengio, and Aaron Courville.\n",
    "* https://docs.scipy.org/doc/numpy/reference/routines.linalg.html\n",
    "* https://machinelearningmastery.com/introduction-to-tensors-for-machine-learning/\n",
    "* https://docs.scipy.org/doc/numpy-1.10.0/reference/arrays.ndarray.html\n",
    "\n",
    "\n",
    "\n",
    "##### This part does assume that the audience have previous experience with basic Linear Algebra, including Vectors, Matrices, Tensors."
   ]
  },
  {
   "cell_type": "markdown",
   "metadata": {},
   "source": [
    "### Scalars\n",
    "##### The default data type in NumPy is float_\n",
    "\n",
    "Source doc: https://docs.scipy.org/doc/numpy-1.13.0/reference/arrays.scalars.html "
   ]
  },
  {
   "cell_type": "code",
   "execution_count": 8,
   "metadata": {},
   "outputs": [
    {
     "data": {
      "text/plain": [
       "(int,\n",
       " float,\n",
       " complex,\n",
       " int,\n",
       " bool,\n",
       " bytes,\n",
       " str,\n",
       " memoryview,\n",
       " numpy.bool_,\n",
       " numpy.int8,\n",
       " numpy.uint8,\n",
       " numpy.int16,\n",
       " numpy.uint16,\n",
       " numpy.int32,\n",
       " numpy.uint32,\n",
       " numpy.int64,\n",
       " numpy.uint64,\n",
       " numpy.int64,\n",
       " numpy.uint64,\n",
       " numpy.float16,\n",
       " numpy.float32,\n",
       " numpy.float64,\n",
       " numpy.float128,\n",
       " numpy.complex64,\n",
       " numpy.complex128,\n",
       " numpy.complex256,\n",
       " numpy.object_,\n",
       " numpy.bytes_,\n",
       " numpy.str_,\n",
       " numpy.void,\n",
       " numpy.datetime64,\n",
       " numpy.timedelta64)"
      ]
     },
     "execution_count": 8,
     "metadata": {},
     "output_type": "execute_result"
    }
   ],
   "source": [
    "#listing the \n",
    "\n",
    "np.ScalarType"
   ]
  },
  {
   "cell_type": "code",
   "execution_count": 9,
   "metadata": {},
   "outputs": [],
   "source": [
    "a = np.array(3.1)"
   ]
  },
  {
   "cell_type": "code",
   "execution_count": 10,
   "metadata": {},
   "outputs": [
    {
     "data": {
      "text/plain": [
       "array(3.1)"
      ]
     },
     "execution_count": 10,
     "metadata": {},
     "output_type": "execute_result"
    }
   ],
   "source": [
    "a"
   ]
  },
  {
   "cell_type": "code",
   "execution_count": 11,
   "metadata": {},
   "outputs": [],
   "source": [
    "b = np.array(3, dtype=float)"
   ]
  },
  {
   "cell_type": "code",
   "execution_count": 12,
   "metadata": {},
   "outputs": [
    {
     "data": {
      "text/plain": [
       "array(3.)"
      ]
     },
     "execution_count": 12,
     "metadata": {},
     "output_type": "execute_result"
    }
   ],
   "source": [
    "b"
   ]
  },
  {
   "cell_type": "markdown",
   "metadata": {},
   "source": [
    "# Defining Matrics and Vectors\n",
    "\n",
    "##### A matrix  is a rectangular array of numbers, symbols, or expressions, arranged in rows and columns:\n",
    "![alt text](https://upload.wikimedia.org/wikipedia/commons/thumb/b/bb/Matrix.svg/494px-Matrix.svg.png?raw=true)\n",
    "\n",
    "https://www.wikiwand.com/en/Matrix_(mathematics)"
   ]
  },
  {
   "cell_type": "code",
   "execution_count": 81,
   "metadata": {},
   "outputs": [
    {
     "name": "stdout",
     "output_type": "stream",
     "text": [
      "[[1 2 3]\n",
      " [4 5 6]\n",
      " [7 8 9]]\n",
      "\n",
      "Shape of the matrix is: (3, 3)\n"
     ]
    }
   ],
   "source": [
    "# Define matrix \"A\"\n",
    "\n",
    "A = np.array([[1, 2, 3],[4, 5, 6], [7, 8, 9]])\n",
    "print(A)\n",
    "print()\n",
    "print(\"Shape of the matrix is:\", A.shape)"
   ]
  },
  {
   "cell_type": "markdown",
   "metadata": {},
   "source": [
    "### Addition, scalar multiplication and transposition\n",
    "\n",
    "![alt text](https://github.com/sb0709/bootcamp_KSU/blob/master/pictures/matrix_table.png?raw=true)\n",
    "\n",
    "\n",
    "https://www.wikiwand.com/en/Matrix_(mathematics)"
   ]
  },
  {
   "cell_type": "code",
   "execution_count": 82,
   "metadata": {},
   "outputs": [
    {
     "name": "stdout",
     "output_type": "stream",
     "text": [
      "[[ 1  4  9]\n",
      " [16 25 36]\n",
      " [49 64 81]]\n"
     ]
    }
   ],
   "source": [
    "B = A**2\n",
    "print(B)"
   ]
  },
  {
   "cell_type": "code",
   "execution_count": 83,
   "metadata": {},
   "outputs": [
    {
     "name": "stdout",
     "output_type": "stream",
     "text": [
      "[[ 2  6 12]\n",
      " [20 30 42]\n",
      " [56 72 90]]\n"
     ]
    }
   ],
   "source": [
    "# we can add matrices to each other, as long as they have the same shape, just by adding their corresponding elements: C = A + B\n",
    "\n",
    "C = A + B\n",
    "print(C)"
   ]
  },
  {
   "cell_type": "code",
   "execution_count": 84,
   "metadata": {},
   "outputs": [
    {
     "data": {
      "text/plain": [
       "array([[  4,  12,  24],\n",
       "       [ 40,  60,  84],\n",
       "       [112, 144, 180]])"
      ]
     },
     "execution_count": 84,
     "metadata": {},
     "output_type": "execute_result"
    }
   ],
   "source": [
    "# scalar multiply matrix, is performed by multiply each element of a matrix to a scalar\n",
    "\n",
    "D = 2 * C\n",
    "D"
   ]
  },
  {
   "cell_type": "code",
   "execution_count": 85,
   "metadata": {},
   "outputs": [
    {
     "data": {
      "text/plain": [
       "array([[ 4,  8, 14],\n",
       "       [22, 32, 44],\n",
       "       [58, 74, 92]])"
      ]
     },
     "execution_count": 85,
     "metadata": {},
     "output_type": "execute_result"
    }
   ],
   "source": [
    "# scalar addition to matrix, is performed by adding each element of a matrix to a scalar\n",
    "\n",
    "E = 2 + C\n",
    "E"
   ]
  },
  {
   "cell_type": "code",
   "execution_count": 86,
   "metadata": {},
   "outputs": [
    {
     "name": "stdout",
     "output_type": "stream",
     "text": [
      "[[1 4 7]\n",
      " [2 5 8]\n",
      " [3 6 9]]\n"
     ]
    }
   ],
   "source": [
    "# Transpose \n",
    "print(A.T)"
   ]
  },
  {
   "cell_type": "code",
   "execution_count": 87,
   "metadata": {},
   "outputs": [
    {
     "name": "stdout",
     "output_type": "stream",
     "text": [
      "[[ 1.44444444 -1.38888889  0.44444444]\n",
      " [-2.44444444  2.05555556 -0.61111111]\n",
      " [ 1.05555556 -0.77777778  0.22222222]]\n"
     ]
    }
   ],
   "source": [
    "# inverse\n",
    "\n",
    "print(np.linalg.inv(E))\n",
    "\n",
    "# here we have also the Generalized inverse option to can calculate."
   ]
  },
  {
   "cell_type": "markdown",
   "metadata": {},
   "source": [
    "# How to find determinant of a matrix\n",
    "\n",
    "![alt text](https://wikimedia.org/api/rest_v1/media/math/render/svg/5b2e40d390e1d26039aabee44c7d1d86c8755232?raw=true)\n",
    "\n",
    "Source info: https://www.wikiwand.com/en/Determinant"
   ]
  },
  {
   "cell_type": "code",
   "execution_count": 88,
   "metadata": {},
   "outputs": [
    {
     "name": "stdout",
     "output_type": "stream",
     "text": [
      "6.66133814775094e-16\n"
     ]
    }
   ],
   "source": [
    "# Determinant\n",
    "\n",
    "\n",
    "print(np.linalg.det(A))"
   ]
  },
  {
   "cell_type": "markdown",
   "metadata": {},
   "source": [
    "# Eigenvalue and eigenvectors\n",
    "\n",
    "\n",
    "Source: https://www.wikiwand.com/en/Eigenvalues_and_eigenvectors \n",
    "http://mathworld.wolfram.com/Eigenvalue.html"
   ]
  },
  {
   "cell_type": "code",
   "execution_count": 89,
   "metadata": {},
   "outputs": [
    {
     "name": "stdout",
     "output_type": "stream",
     "text": [
      "[ 1.61168440e+01 -1.11684397e+00 -1.30367773e-15]\n",
      "\n",
      "[[-0.23197069 -0.78583024  0.40824829]\n",
      " [-0.52532209 -0.08675134 -0.81649658]\n",
      " [-0.8186735   0.61232756  0.40824829]]\n"
     ]
    }
   ],
   "source": [
    "# Eigenvalues and Eigenvectors\n",
    "\n",
    "eigvals, eigvecs = np.linalg.eig(A)\n",
    "\n",
    "print(eigvals)\n",
    "print()\n",
    "print(eigvecs)"
   ]
  },
  {
   "cell_type": "code",
   "execution_count": 90,
   "metadata": {},
   "outputs": [
    {
     "name": "stdout",
     "output_type": "stream",
     "text": [
      "[[  4  12  24]\n",
      " [ 40  60  84]\n",
      " [112 144 180]]\n"
     ]
    },
    {
     "data": {
      "text/plain": [
       "array([  4,  40, 112])"
      ]
     },
     "execution_count": 90,
     "metadata": {},
     "output_type": "execute_result"
    }
   ],
   "source": [
    "# slicing matrices\n",
    "# slice columns\n",
    "\n",
    "print(D)\n",
    "D[:,0]"
   ]
  },
  {
   "cell_type": "code",
   "execution_count": 91,
   "metadata": {},
   "outputs": [
    {
     "data": {
      "text/plain": [
       "array([ 4, 12, 24])"
      ]
     },
     "execution_count": 91,
     "metadata": {},
     "output_type": "execute_result"
    }
   ],
   "source": [
    "# slice rows\n",
    "\n",
    "D[0,:]"
   ]
  },
  {
   "cell_type": "markdown",
   "metadata": {},
   "source": [
    "# Vectors\n",
    "\n",
    "##### A column vector or column matrix is an m × 1 matrix, that is, a matrix consisting of a single column of m elements,\n",
    "![alt text](https://wikimedia.org/api/rest_v1/media/math/render/svg/32bf4d54c8e316178fca0b9f4a79dd0a0a34f34f?raw=true)\n",
    "##### Similarly, a row vector or row matrix is a 1 × m matrix, that is, a matrix consisting of a single row of m elements,\n",
    "![alt text](https://wikimedia.org/api/rest_v1/media/math/render/svg/507111acf945f5fe57c45ecc563ec02a4aff4a1b?raw=true)\n",
    "\n",
    "https://www.wikiwand.com/en/Row_and_column_vectors"
   ]
  },
  {
   "cell_type": "code",
   "execution_count": 92,
   "metadata": {},
   "outputs": [
    {
     "name": "stdout",
     "output_type": "stream",
     "text": [
      "[[2]\n",
      " [3]\n",
      " [1]]\n",
      "\n",
      "Shape of the vector is: (3, 1)\n"
     ]
    }
   ],
   "source": [
    "# Define vector 'x'\n",
    "\n",
    "x = np.array([[2],[3],[1]])\n",
    "print(x)\n",
    "print()\n",
    "print(\"Shape of the vector is:\", x.shape)"
   ]
  },
  {
   "cell_type": "code",
   "execution_count": 93,
   "metadata": {},
   "outputs": [
    {
     "data": {
      "text/plain": [
       "array([3])"
      ]
     },
     "execution_count": 93,
     "metadata": {},
     "output_type": "execute_result"
    }
   ],
   "source": [
    "# slicing elements of a vector.\n",
    "\n",
    "x[1]"
   ]
  },
  {
   "cell_type": "code",
   "execution_count": 94,
   "metadata": {},
   "outputs": [
    {
     "name": "stdout",
     "output_type": "stream",
     "text": [
      "[[4]\n",
      " [6]\n",
      " [2]]\n",
      "\n",
      "[[4]\n",
      " [9]\n",
      " [1]]\n",
      "\n",
      "[[4]\n",
      " [9]\n",
      " [1]]\n"
     ]
    }
   ],
   "source": [
    "# Operations with vectors:\n",
    "\n",
    "print(x + x)\n",
    "print()\n",
    "print(x * x)\n",
    "print()\n",
    "print(x ** 2)"
   ]
  },
  {
   "cell_type": "code",
   "execution_count": 95,
   "metadata": {},
   "outputs": [],
   "source": [
    "# https://docs.scipy.org/doc/numpy-1.10.0/reference/arrays.ndarray.html"
   ]
  },
  {
   "cell_type": "code",
   "execution_count": 96,
   "metadata": {},
   "outputs": [
    {
     "name": "stdout",
     "output_type": "stream",
     "text": [
      "[[1 2 3]\n",
      " [4 5 6]\n",
      " [7 8 9]]\n"
     ]
    },
    {
     "ename": "ValueError",
     "evalue": "shapes (3,1) and (3,3) not aligned: 1 (dim 1) != 3 (dim 0)",
     "output_type": "error",
     "traceback": [
      "\u001b[0;31m---------------------------------------------------------------------------\u001b[0m",
      "\u001b[0;31mValueError\u001b[0m                                Traceback (most recent call last)",
      "\u001b[0;32m<ipython-input-96-2672df292995>\u001b[0m in \u001b[0;36m<module>\u001b[0;34m()\u001b[0m\n\u001b[1;32m      1\u001b[0m \u001b[0;31m# Vector matrix multiplication:\u001b[0m\u001b[0;34m\u001b[0m\u001b[0;34m\u001b[0m\u001b[0m\n\u001b[1;32m      2\u001b[0m \u001b[0mprint\u001b[0m\u001b[0;34m(\u001b[0m\u001b[0mA\u001b[0m\u001b[0;34m)\u001b[0m\u001b[0;34m\u001b[0m\u001b[0m\n\u001b[0;32m----> 3\u001b[0;31m \u001b[0mprint\u001b[0m\u001b[0;34m(\u001b[0m\u001b[0mx\u001b[0m\u001b[0;34m.\u001b[0m\u001b[0mdot\u001b[0m\u001b[0;34m(\u001b[0m\u001b[0mA\u001b[0m\u001b[0;34m)\u001b[0m\u001b[0;34m)\u001b[0m\u001b[0;34m\u001b[0m\u001b[0m\n\u001b[0m\u001b[1;32m      4\u001b[0m \u001b[0;34m\u001b[0m\u001b[0m\n\u001b[1;32m      5\u001b[0m \u001b[0;31m#here we can see the error of multiplication, we have the rules when performing vector matrix multiplication ...\u001b[0m\u001b[0;34m\u001b[0m\u001b[0;34m\u001b[0m\u001b[0m\n",
      "\u001b[0;31mValueError\u001b[0m: shapes (3,1) and (3,3) not aligned: 1 (dim 1) != 3 (dim 0)"
     ]
    }
   ],
   "source": [
    "# Vector matrix multiplication:\n",
    "print(A)\n",
    "print(x.dot(A))\n",
    "\n",
    "#here we can see the error of multiplication, we have the rules when performing vector matrix multiplication ... "
   ]
  },
  {
   "cell_type": "code",
   "execution_count": 97,
   "metadata": {},
   "outputs": [
    {
     "name": "stdout",
     "output_type": "stream",
     "text": [
      "[[21 27 33]]\n"
     ]
    }
   ],
   "source": [
    "print(x.T.dot(A))"
   ]
  },
  {
   "cell_type": "code",
   "execution_count": 98,
   "metadata": {},
   "outputs": [
    {
     "name": "stdout",
     "output_type": "stream",
     "text": [
      "[[ 2  4  6]\n",
      " [12 15 18]\n",
      " [ 7  8  9]]\n",
      "\n",
      "[[ 2  4  6]\n",
      " [12 15 18]\n",
      " [ 7  8  9]]\n"
     ]
    }
   ],
   "source": [
    "# Element-wise Multiplication\n",
    "\n",
    "print(np.multiply(A, x))\n",
    "print()\n",
    "print(np.multiply(x, A))"
   ]
  },
  {
   "cell_type": "markdown",
   "metadata": {},
   "source": [
    "# Defining Tensors and perfom operations\n",
    "### A tensor is a generalization of vectors and matrices and is easily understood as a multidimensional array."
   ]
  },
  {
   "cell_type": "code",
   "execution_count": 99,
   "metadata": {},
   "outputs": [],
   "source": [
    "# https://machinelearningmastery.com/introduction-to-tensors-for-machine-learning/"
   ]
  },
  {
   "cell_type": "code",
   "execution_count": 100,
   "metadata": {},
   "outputs": [
    {
     "name": "stdout",
     "output_type": "stream",
     "text": [
      "(3, 3, 3)\n",
      "[[[ 1  2  3]\n",
      "  [ 4  5  6]\n",
      "  [ 7  8  9]]\n",
      "\n",
      " [[11 12 13]\n",
      "  [14 15 16]\n",
      "  [17 18 19]]\n",
      "\n",
      " [[21 22 23]\n",
      "  [24 25 26]\n",
      "  [27 28 29]]]\n"
     ]
    }
   ],
   "source": [
    "# Tensor defining:\n",
    "\n",
    "T = np.array([\n",
    "  [[1,2,3],    [4,5,6],    [7,8,9]],\n",
    "  [[11,12,13], [14,15,16], [17,18,19]],\n",
    "  [[21,22,23], [24,25,26], [27,28,29]],\n",
    "  ])\n",
    "print(T.shape)\n",
    "print(T)"
   ]
  },
  {
   "cell_type": "markdown",
   "metadata": {},
   "source": [
    "Tensor Addition:\n",
    "\n",
    "```python\n",
    "     a111, a121, a131     a112, a122, a132\n",
    "A = (a211, a221, a231),  (a112, a122, a132)\n",
    "\n",
    "     b111, b121, t131     b112, b122, b132\n",
    "B = (b211, t221, t231),  (b112, b122, b132)\n",
    "\n",
    "\n",
    "C = A + B\n",
    "\n",
    "     a111 + b111, a121 + b121, a131 + b131     a112 + b112, a122 + b122, a132 + b132\n",
    "C = (a211 + b211, a221 + b221, a231 + b231),  (a112 + b112, a122 + b122, a132 + b132)\n",
    "```"
   ]
  },
  {
   "cell_type": "code",
   "execution_count": 101,
   "metadata": {},
   "outputs": [
    {
     "name": "stdout",
     "output_type": "stream",
     "text": [
      "[[[ 2  4  6]\n",
      "  [ 8 10 12]\n",
      "  [14 16 18]]\n",
      "\n",
      " [[22 24 26]\n",
      "  [28 30 32]\n",
      "  [34 36 38]]\n",
      "\n",
      " [[42 44 46]\n",
      "  [48 50 52]\n",
      "  [54 56 58]]]\n"
     ]
    }
   ],
   "source": [
    "t_A = np.array([\n",
    "  [[1,2,3],    [4,5,6],    [7,8,9]],\n",
    "  [[11,12,13], [14,15,16], [17,18,19]],\n",
    "  [[21,22,23], [24,25,26], [27,28,29]],])\n",
    "t_B = np.array([\n",
    "  [[1,2,3],    [4,5,6],    [7,8,9]],\n",
    "  [[11,12,13], [14,15,16], [17,18,19]],\n",
    "  [[21,22,23], [24,25,26], [27,28,29]],\n",
    "  ])\n",
    "t_C = t_A + t_B\n",
    "print(t_C)"
   ]
  },
  {
   "cell_type": "code",
   "execution_count": 102,
   "metadata": {},
   "outputs": [
    {
     "name": "stdout",
     "output_type": "stream",
     "text": [
      "[[[0 0 0]\n",
      "  [0 0 0]\n",
      "  [0 0 0]]\n",
      "\n",
      " [[0 0 0]\n",
      "  [0 0 0]\n",
      "  [0 0 0]]\n",
      "\n",
      " [[0 0 0]\n",
      "  [0 0 0]\n",
      "  [0 0 0]]]\n",
      "\n",
      "[[[  1   4   9]\n",
      "  [ 16  25  36]\n",
      "  [ 49  64  81]]\n",
      "\n",
      " [[121 144 169]\n",
      "  [196 225 256]\n",
      "  [289 324 361]]\n",
      "\n",
      " [[441 484 529]\n",
      "  [576 625 676]\n",
      "  [729 784 841]]]\n",
      "\n",
      "[[[1. 1. 1.]\n",
      "  [1. 1. 1.]\n",
      "  [1. 1. 1.]]\n",
      "\n",
      " [[1. 1. 1.]\n",
      "  [1. 1. 1.]\n",
      "  [1. 1. 1.]]\n",
      "\n",
      " [[1. 1. 1.]\n",
      "  [1. 1. 1.]\n",
      "  [1. 1. 1.]]]\n"
     ]
    }
   ],
   "source": [
    "# Tensor substraction, division and element-wise multiplication is like the addition elements operation:\n",
    "\n",
    "t_C = t_A - t_B\n",
    "print(t_C)\n",
    "\n",
    "print()\n",
    "t_C = t_A * t_B\n",
    "print(t_C)\n",
    "\n",
    "print()\n",
    "t_C = t_A / t_B\n",
    "print(t_C)"
   ]
  },
  {
   "cell_type": "code",
   "execution_count": 103,
   "metadata": {},
   "outputs": [
    {
     "name": "stdout",
     "output_type": "stream",
     "text": [
      "[[[[[ 11  22  33]\n",
      "    [ 44  55  66]\n",
      "    [ 77  88  99]]\n",
      "\n",
      "   [[121 132 143]\n",
      "    [154 165 176]\n",
      "    [187 198 209]]\n",
      "\n",
      "   [[231 242 253]\n",
      "    [264 275 286]\n",
      "    [297 308 319]]]\n",
      "\n",
      "\n",
      "  [[[ 12  24  36]\n",
      "    [ 48  60  72]\n",
      "    [ 84  96 108]]\n",
      "\n",
      "   [[132 144 156]\n",
      "    [168 180 192]\n",
      "    [204 216 228]]\n",
      "\n",
      "   [[252 264 276]\n",
      "    [288 300 312]\n",
      "    [324 336 348]]]\n",
      "\n",
      "\n",
      "  [[[ 13  26  39]\n",
      "    [ 52  65  78]\n",
      "    [ 91 104 117]]\n",
      "\n",
      "   [[143 156 169]\n",
      "    [182 195 208]\n",
      "    [221 234 247]]\n",
      "\n",
      "   [[273 286 299]\n",
      "    [312 325 338]\n",
      "    [351 364 377]]]]\n",
      "\n",
      "\n",
      "\n",
      " [[[[ 14  28  42]\n",
      "    [ 56  70  84]\n",
      "    [ 98 112 126]]\n",
      "\n",
      "   [[154 168 182]\n",
      "    [196 210 224]\n",
      "    [238 252 266]]\n",
      "\n",
      "   [[294 308 322]\n",
      "    [336 350 364]\n",
      "    [378 392 406]]]\n",
      "\n",
      "\n",
      "  [[[ 15  30  45]\n",
      "    [ 60  75  90]\n",
      "    [105 120 135]]\n",
      "\n",
      "   [[165 180 195]\n",
      "    [210 225 240]\n",
      "    [255 270 285]]\n",
      "\n",
      "   [[315 330 345]\n",
      "    [360 375 390]\n",
      "    [405 420 435]]]\n",
      "\n",
      "\n",
      "  [[[ 16  32  48]\n",
      "    [ 64  80  96]\n",
      "    [112 128 144]]\n",
      "\n",
      "   [[176 192 208]\n",
      "    [224 240 256]\n",
      "    [272 288 304]]\n",
      "\n",
      "   [[336 352 368]\n",
      "    [384 400 416]\n",
      "    [432 448 464]]]]\n",
      "\n",
      "\n",
      "\n",
      " [[[[ 17  34  51]\n",
      "    [ 68  85 102]\n",
      "    [119 136 153]]\n",
      "\n",
      "   [[187 204 221]\n",
      "    [238 255 272]\n",
      "    [289 306 323]]\n",
      "\n",
      "   [[357 374 391]\n",
      "    [408 425 442]\n",
      "    [459 476 493]]]\n",
      "\n",
      "\n",
      "  [[[ 18  36  54]\n",
      "    [ 72  90 108]\n",
      "    [126 144 162]]\n",
      "\n",
      "   [[198 216 234]\n",
      "    [252 270 288]\n",
      "    [306 324 342]]\n",
      "\n",
      "   [[378 396 414]\n",
      "    [432 450 468]\n",
      "    [486 504 522]]]\n",
      "\n",
      "\n",
      "  [[[ 19  38  57]\n",
      "    [ 76  95 114]\n",
      "    [133 152 171]]\n",
      "\n",
      "   [[209 228 247]\n",
      "    [266 285 304]\n",
      "    [323 342 361]]\n",
      "\n",
      "   [[399 418 437]\n",
      "    [456 475 494]\n",
      "    [513 532 551]]]]]\n"
     ]
    }
   ],
   "source": [
    "# Tensor Dot_product\n",
    "\n",
    "t_C = np.tensordot(t_A, t_B, axes=0)\n",
    "print(t_C[1])"
   ]
  },
  {
   "cell_type": "markdown",
   "metadata": {},
   "source": [
    "# Example solving linear equations using vector and matrices"
   ]
  },
  {
   "cell_type": "markdown",
   "metadata": {},
   "source": [
    "### We now have enough linear algebra notation to write a system of linear equations: Ax = b\n",
    "* A is a matrix\n",
    "* x is a vector\n",
    "* b is a vector\n",
    "\n",
    "https://docs.scipy.org/doc/numpy-1.14.0/reference/generated/numpy.linalg.solve.html"
   ]
  },
  {
   "cell_type": "code",
   "execution_count": 104,
   "metadata": {},
   "outputs": [],
   "source": [
    "# Solve the system of equations 3 * x0 + x1 = 9 and x0 + 2 * x1 = 8:\n",
    "\n",
    "A = np.array([[3,1], [1,2]])\n",
    "b = np.array([9,8])\n",
    "x = np.linalg.solve(A, b)"
   ]
  },
  {
   "cell_type": "code",
   "execution_count": 105,
   "metadata": {},
   "outputs": [
    {
     "data": {
      "text/plain": [
       "array([2., 3.])"
      ]
     },
     "execution_count": 105,
     "metadata": {},
     "output_type": "execute_result"
    }
   ],
   "source": [
    "x"
   ]
  },
  {
   "cell_type": "code",
   "execution_count": 106,
   "metadata": {},
   "outputs": [
    {
     "data": {
      "text/plain": [
       "True"
      ]
     },
     "execution_count": 106,
     "metadata": {},
     "output_type": "execute_result"
    }
   ],
   "source": [
    "# Check that the solution is correct:\n",
    "\n",
    "np.allclose(np.dot(A, x), b)"
   ]
  },
  {
   "cell_type": "markdown",
   "metadata": {},
   "source": [
    "# Q&A"
   ]
  },
  {
   "cell_type": "code",
   "execution_count": null,
   "metadata": {},
   "outputs": [],
   "source": []
  }
 ],
 "metadata": {
  "kernelspec": {
   "display_name": "Python36 (bootcamp_conda_ksu)",
   "language": "python",
   "name": "bootcamp_conda_ksu"
  },
  "language_info": {
   "codemirror_mode": {
    "name": "ipython",
    "version": 3
   },
   "file_extension": ".py",
   "mimetype": "text/x-python",
   "name": "python",
   "nbconvert_exporter": "python",
   "pygments_lexer": "ipython3",
   "version": "3.6.5"
  }
 },
 "nbformat": 4,
 "nbformat_minor": 2
}
